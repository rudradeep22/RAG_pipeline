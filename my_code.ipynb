{
 "cells": [
  {
   "cell_type": "markdown",
   "metadata": {},
   "source": [
    "# RAG basic outline"
   ]
  },
  {
   "cell_type": "markdown",
   "metadata": {},
   "source": [
    "### Downloading sample pdf"
   ]
  },
  {
   "cell_type": "code",
   "execution_count": 1,
   "metadata": {},
   "outputs": [
    {
     "name": "stdout",
     "output_type": "stream",
     "text": [
      "File ./human-nutrition-text.pdf already exists\n"
     ]
    }
   ],
   "source": [
    "import os \n",
    "import requests\n",
    "\n",
    "pdf_path = './human-nutrition-text.pdf'\n",
    "pdf_url = '' # enter url here\n",
    "if not os.path.exists(pdf_path):\n",
    "    print(f'Downloading file . . .')\n",
    "    response = requests.get(pdf_url)\n",
    "    if response.status_code == 200:\n",
    "        with open(pdf_path, \"wb\") as f:\n",
    "            f.write(response.content)\n",
    "        print(f'File is downloaded as {pdf_path}')\n",
    "    else:\n",
    "        print(f'[ERROR] {response.status_code}')\n",
    "else:\n",
    "    print(f'File {pdf_path} already exists')\n"
   ]
  },
  {
   "cell_type": "markdown",
   "metadata": {},
   "source": [
    "Opening pdf"
   ]
  },
  {
   "cell_type": "code",
   "execution_count": 2,
   "metadata": {},
   "outputs": [],
   "source": [
    "import fitz # !pip install PyMuPdf\n",
    "from tqdm.auto import tqdm\n",
    "\n",
    "def formatter(text):\n",
    "    clean = text.replace(\"\\n\", \" \").strip()\n",
    "    return clean\n",
    "\n",
    "def open_read(pdf_path):\n",
    "    doc = fitz.open(pdf_path)\n",
    "    pages = []\n",
    "    for page_no, page in tqdm(enumerate(doc)):\n",
    "        text = formatter(page.get_text())\n",
    "        pages.append({\"page_no\" : page_no-41 , \n",
    "                      \"page_char_count\" : len(text), \n",
    "                      \"page_word_count\" : len(text.split(\" \")),\n",
    "                      \"page_sentence_count\" : len(text.split(\". \")), \n",
    "                      \"page_token_count\" : len(text)/4, \n",
    "                      \"text\": text})\n",
    "    return pages"
   ]
  },
  {
   "cell_type": "code",
   "execution_count": 3,
   "metadata": {},
   "outputs": [
    {
     "data": {
      "application/vnd.jupyter.widget-view+json": {
       "model_id": "af9c36e3502c45bb9c936cc465db1820",
       "version_major": 2,
       "version_minor": 0
      },
      "text/plain": [
       "0it [00:00, ?it/s]"
      ]
     },
     "metadata": {},
     "output_type": "display_data"
    },
    {
     "data": {
      "text/plain": [
       "[{'page_no': -41,\n",
       "  'page_char_count': 29,\n",
       "  'page_word_count': 4,\n",
       "  'page_sentence_count': 1,\n",
       "  'page_token_count': 7.25,\n",
       "  'text': 'Human Nutrition: 2020 Edition'},\n",
       " {'page_no': -40,\n",
       "  'page_char_count': 0,\n",
       "  'page_word_count': 1,\n",
       "  'page_sentence_count': 1,\n",
       "  'page_token_count': 0.0,\n",
       "  'text': ''}]"
      ]
     },
     "execution_count": 3,
     "metadata": {},
     "output_type": "execute_result"
    }
   ],
   "source": [
    "pages = open_read(pdf_path=pdf_path)\n",
    "pages[:2]"
   ]
  },
  {
   "cell_type": "code",
   "execution_count": 4,
   "metadata": {},
   "outputs": [
    {
     "data": {
      "text/html": [
       "<div>\n",
       "<style scoped>\n",
       "    .dataframe tbody tr th:only-of-type {\n",
       "        vertical-align: middle;\n",
       "    }\n",
       "\n",
       "    .dataframe tbody tr th {\n",
       "        vertical-align: top;\n",
       "    }\n",
       "\n",
       "    .dataframe thead th {\n",
       "        text-align: right;\n",
       "    }\n",
       "</style>\n",
       "<table border=\"1\" class=\"dataframe\">\n",
       "  <thead>\n",
       "    <tr style=\"text-align: right;\">\n",
       "      <th></th>\n",
       "      <th>page_no</th>\n",
       "      <th>page_char_count</th>\n",
       "      <th>page_word_count</th>\n",
       "      <th>page_sentence_count</th>\n",
       "      <th>page_token_count</th>\n",
       "      <th>text</th>\n",
       "    </tr>\n",
       "  </thead>\n",
       "  <tbody>\n",
       "    <tr>\n",
       "      <th>0</th>\n",
       "      <td>-41</td>\n",
       "      <td>29</td>\n",
       "      <td>4</td>\n",
       "      <td>1</td>\n",
       "      <td>7.25</td>\n",
       "      <td>Human Nutrition: 2020 Edition</td>\n",
       "    </tr>\n",
       "    <tr>\n",
       "      <th>1</th>\n",
       "      <td>-40</td>\n",
       "      <td>0</td>\n",
       "      <td>1</td>\n",
       "      <td>1</td>\n",
       "      <td>0.00</td>\n",
       "      <td></td>\n",
       "    </tr>\n",
       "    <tr>\n",
       "      <th>2</th>\n",
       "      <td>-39</td>\n",
       "      <td>320</td>\n",
       "      <td>54</td>\n",
       "      <td>1</td>\n",
       "      <td>80.00</td>\n",
       "      <td>Human Nutrition: 2020  Edition  UNIVERSITY OF ...</td>\n",
       "    </tr>\n",
       "    <tr>\n",
       "      <th>3</th>\n",
       "      <td>-38</td>\n",
       "      <td>212</td>\n",
       "      <td>32</td>\n",
       "      <td>1</td>\n",
       "      <td>53.00</td>\n",
       "      <td>Human Nutrition: 2020 Edition by University of...</td>\n",
       "    </tr>\n",
       "    <tr>\n",
       "      <th>4</th>\n",
       "      <td>-37</td>\n",
       "      <td>797</td>\n",
       "      <td>147</td>\n",
       "      <td>3</td>\n",
       "      <td>199.25</td>\n",
       "      <td>Contents  Preface  University of Hawai‘i at Mā...</td>\n",
       "    </tr>\n",
       "  </tbody>\n",
       "</table>\n",
       "</div>"
      ],
      "text/plain": [
       "   page_no  page_char_count  page_word_count  page_sentence_count  \\\n",
       "0      -41               29                4                    1   \n",
       "1      -40                0                1                    1   \n",
       "2      -39              320               54                    1   \n",
       "3      -38              212               32                    1   \n",
       "4      -37              797              147                    3   \n",
       "\n",
       "   page_token_count                                               text  \n",
       "0              7.25                      Human Nutrition: 2020 Edition  \n",
       "1              0.00                                                     \n",
       "2             80.00  Human Nutrition: 2020  Edition  UNIVERSITY OF ...  \n",
       "3             53.00  Human Nutrition: 2020 Edition by University of...  \n",
       "4            199.25  Contents  Preface  University of Hawai‘i at Mā...  "
      ]
     },
     "execution_count": 4,
     "metadata": {},
     "output_type": "execute_result"
    }
   ],
   "source": [
    "import pandas as pd\n",
    "df = pd.DataFrame(pages)\n",
    "df.head()"
   ]
  },
  {
   "cell_type": "markdown",
   "metadata": {},
   "source": [
    "### Text Splitting"
   ]
  },
  {
   "cell_type": "code",
   "execution_count": 5,
   "metadata": {},
   "outputs": [
    {
     "data": {
      "text/plain": [
       "<spacy.pipeline.sentencizer.Sentencizer at 0x7538e8f8dc90>"
      ]
     },
     "execution_count": 5,
     "metadata": {},
     "output_type": "execute_result"
    }
   ],
   "source": [
    "from spacy.lang.en import English\n",
    "nlp = English()\n",
    "# Use spacy Sentencizer to split text to sentences\n",
    "nlp.add_pipe(\"sentencizer\")"
   ]
  },
  {
   "cell_type": "code",
   "execution_count": 6,
   "metadata": {},
   "outputs": [
    {
     "data": {
      "application/vnd.jupyter.widget-view+json": {
       "model_id": "0582e2306f134fd695bc077a04311141",
       "version_major": 2,
       "version_minor": 0
      },
      "text/plain": [
       "  0%|          | 0/1208 [00:00<?, ?it/s]"
      ]
     },
     "metadata": {},
     "output_type": "display_data"
    }
   ],
   "source": [
    "for item in tqdm(pages):\n",
    "    item[\"sentences\"] = list(nlp(item[\"text\"]).sents)\n",
    "    # Convert into strings from spacy datatype\n",
    "    item[\"sentences\"] = [str(x) for x in item[\"sentences\"]]\n",
    "    item[\"sentence_count_spacy\"] = len(item[\"sentences\"])"
   ]
  },
  {
   "cell_type": "code",
   "execution_count": 7,
   "metadata": {},
   "outputs": [
    {
     "data": {
      "text/plain": [
       "{'page_no': 1057,\n",
       " 'page_char_count': 1841,\n",
       " 'page_word_count': 308,\n",
       " 'page_sentence_count': 18,\n",
       " 'page_token_count': 460.25,\n",
       " 'text': 'harmful microorganisms that can cause foodborne illnesses.  Therefore, people who primarily eat raw foods should thoroughly  clean all fruit and vegetables before eating them. Poultry and other  meats should always be cooked before eating.12  Vegetarian and Vegan Diets  Vegetarian and vegan diets have been followed for thousands of  years for different reasons, including as part of a spiritual practice,  to show respect for living things, for health reasons, or because of  environmental concerns. For many people, being a vegetarian is a  logical outgrowth of “thinking green.” A meat-based food system  requires more energy, land, and water resources than a plant-based  food system. This may suggest that the plant-based diet is more  sustainable than the average meat-based diet in the U.S.By avoiding  animal flesh, vegetarians hope to look after their own health and  that of the planet at the same time. Broadly speaking, vegetarians  eat beans, grains, and fruits and vegetables, and do not eat red  meat, poultry, seafood, or any other animal flesh. Some vegetarians,  known as lacto vegetarians, will eat dairy products. Others, known  as lacto-ovo vegetarians, will eat dairy products and eggs. A vegan  diet is the most restrictive vegetarian diet—vegans do not eat dairy,  eggs, or other animal products, and some do not eat honey.  Vegetarian diets have a number of benefits. Well-balanced eating  plans can lower the risk of a number of chronic conditions,  including heart disease, diabetes, and obesity. They also help to  promote sustainable agriculture. However, if a vegetarian does not  vary his or her food choices, the diet may be insufficient in calcium,  12. Raw Food Diet. WebMD.com.https://www.webmd.com/ diet/a-z/raw-foods-diet. Published November 21, 2016.  Accessed April 15, 2018.  Comparing Diets  |  1057',\n",
       " 'sentences': ['harmful microorganisms that can cause foodborne illnesses.',\n",
       "  ' Therefore, people who primarily eat raw foods should thoroughly  clean all fruit and vegetables before eating them.',\n",
       "  'Poultry and other  meats should always be cooked before eating.12  Vegetarian and Vegan Diets  Vegetarian and vegan diets have been followed for thousands of  years for different reasons, including as part of a spiritual practice,  to show respect for living things, for health reasons, or because of  environmental concerns.',\n",
       "  'For many people, being a vegetarian is a  logical outgrowth of “thinking green.”',\n",
       "  'A meat-based food system  requires more energy, land, and water resources than a plant-based  food system.',\n",
       "  'This may suggest that the plant-based diet is more  sustainable than the average meat-based diet in the U.S.By avoiding  animal flesh, vegetarians hope to look after their own health and  that of the planet at the same time.',\n",
       "  'Broadly speaking, vegetarians  eat beans, grains, and fruits and vegetables, and do not eat red  meat, poultry, seafood, or any other animal flesh.',\n",
       "  'Some vegetarians,  known as lacto vegetarians, will eat dairy products.',\n",
       "  'Others, known  as lacto-ovo vegetarians, will eat dairy products and eggs.',\n",
       "  'A vegan  diet is the most restrictive vegetarian diet—vegans do not eat dairy,  eggs, or other animal products, and some do not eat honey.',\n",
       "  ' Vegetarian diets have a number of benefits.',\n",
       "  'Well-balanced eating  plans can lower the risk of a number of chronic conditions,  including heart disease, diabetes, and obesity.',\n",
       "  'They also help to  promote sustainable agriculture.',\n",
       "  'However, if a vegetarian does not  vary his or her food choices, the diet may be insufficient in calcium,  12.',\n",
       "  'Raw Food Diet.',\n",
       "  'WebMD.com.https://www.webmd.com/ diet/a-z/raw-foods-diet.',\n",
       "  'Published November 21, 2016.',\n",
       "  ' Accessed April 15, 2018.',\n",
       "  ' Comparing Diets  |  1057'],\n",
       " 'sentence_count_spacy': 19}"
      ]
     },
     "execution_count": 7,
     "metadata": {},
     "output_type": "execute_result"
    }
   ],
   "source": [
    "pages[1098]"
   ]
  },
  {
   "cell_type": "code",
   "execution_count": 8,
   "metadata": {},
   "outputs": [
    {
     "data": {
      "text/html": [
       "<div>\n",
       "<style scoped>\n",
       "    .dataframe tbody tr th:only-of-type {\n",
       "        vertical-align: middle;\n",
       "    }\n",
       "\n",
       "    .dataframe tbody tr th {\n",
       "        vertical-align: top;\n",
       "    }\n",
       "\n",
       "    .dataframe thead th {\n",
       "        text-align: right;\n",
       "    }\n",
       "</style>\n",
       "<table border=\"1\" class=\"dataframe\">\n",
       "  <thead>\n",
       "    <tr style=\"text-align: right;\">\n",
       "      <th></th>\n",
       "      <th>page_no</th>\n",
       "      <th>page_char_count</th>\n",
       "      <th>page_word_count</th>\n",
       "      <th>page_sentence_count</th>\n",
       "      <th>page_token_count</th>\n",
       "      <th>text</th>\n",
       "      <th>sentences</th>\n",
       "      <th>sentence_count_spacy</th>\n",
       "    </tr>\n",
       "  </thead>\n",
       "  <tbody>\n",
       "    <tr>\n",
       "      <th>0</th>\n",
       "      <td>-41</td>\n",
       "      <td>29</td>\n",
       "      <td>4</td>\n",
       "      <td>1</td>\n",
       "      <td>7.25</td>\n",
       "      <td>Human Nutrition: 2020 Edition</td>\n",
       "      <td>[Human Nutrition: 2020 Edition]</td>\n",
       "      <td>1</td>\n",
       "    </tr>\n",
       "    <tr>\n",
       "      <th>1</th>\n",
       "      <td>-40</td>\n",
       "      <td>0</td>\n",
       "      <td>1</td>\n",
       "      <td>1</td>\n",
       "      <td>0.00</td>\n",
       "      <td></td>\n",
       "      <td>[]</td>\n",
       "      <td>0</td>\n",
       "    </tr>\n",
       "    <tr>\n",
       "      <th>2</th>\n",
       "      <td>-39</td>\n",
       "      <td>320</td>\n",
       "      <td>54</td>\n",
       "      <td>1</td>\n",
       "      <td>80.00</td>\n",
       "      <td>Human Nutrition: 2020  Edition  UNIVERSITY OF ...</td>\n",
       "      <td>[Human Nutrition: 2020  Edition  UNIVERSITY OF...</td>\n",
       "      <td>1</td>\n",
       "    </tr>\n",
       "    <tr>\n",
       "      <th>3</th>\n",
       "      <td>-38</td>\n",
       "      <td>212</td>\n",
       "      <td>32</td>\n",
       "      <td>1</td>\n",
       "      <td>53.00</td>\n",
       "      <td>Human Nutrition: 2020 Edition by University of...</td>\n",
       "      <td>[Human Nutrition: 2020 Edition by University o...</td>\n",
       "      <td>1</td>\n",
       "    </tr>\n",
       "    <tr>\n",
       "      <th>4</th>\n",
       "      <td>-37</td>\n",
       "      <td>797</td>\n",
       "      <td>147</td>\n",
       "      <td>3</td>\n",
       "      <td>199.25</td>\n",
       "      <td>Contents  Preface  University of Hawai‘i at Mā...</td>\n",
       "      <td>[Contents  Preface  University of Hawai‘i at M...</td>\n",
       "      <td>2</td>\n",
       "    </tr>\n",
       "  </tbody>\n",
       "</table>\n",
       "</div>"
      ],
      "text/plain": [
       "   page_no  page_char_count  page_word_count  page_sentence_count  \\\n",
       "0      -41               29                4                    1   \n",
       "1      -40                0                1                    1   \n",
       "2      -39              320               54                    1   \n",
       "3      -38              212               32                    1   \n",
       "4      -37              797              147                    3   \n",
       "\n",
       "   page_token_count                                               text  \\\n",
       "0              7.25                      Human Nutrition: 2020 Edition   \n",
       "1              0.00                                                      \n",
       "2             80.00  Human Nutrition: 2020  Edition  UNIVERSITY OF ...   \n",
       "3             53.00  Human Nutrition: 2020 Edition by University of...   \n",
       "4            199.25  Contents  Preface  University of Hawai‘i at Mā...   \n",
       "\n",
       "                                           sentences  sentence_count_spacy  \n",
       "0                    [Human Nutrition: 2020 Edition]                     1  \n",
       "1                                                 []                     0  \n",
       "2  [Human Nutrition: 2020  Edition  UNIVERSITY OF...                     1  \n",
       "3  [Human Nutrition: 2020 Edition by University o...                     1  \n",
       "4  [Contents  Preface  University of Hawai‘i at M...                     2  "
      ]
     },
     "execution_count": 8,
     "metadata": {},
     "output_type": "execute_result"
    }
   ],
   "source": [
    "df = pd.DataFrame(pages)\n",
    "df.head()"
   ]
  },
  {
   "cell_type": "markdown",
   "metadata": {},
   "source": [
    "Chunking the sentences"
   ]
  },
  {
   "cell_type": "code",
   "execution_count": 9,
   "metadata": {},
   "outputs": [
    {
     "data": {
      "text/plain": [
       "[[0, 1, 2, 3, 4, 5, 6, 7, 8, 9],\n",
       " [10, 11, 12, 13, 14, 15, 16, 17, 18, 19],\n",
       " [20, 21, 22, 23, 24]]"
      ]
     },
     "execution_count": 9,
     "metadata": {},
     "output_type": "execute_result"
    }
   ],
   "source": [
    "chunk_size = 10\n",
    "\n",
    "def split_list(input_list: list[str], \n",
    "               slice_size: int = chunk_size) -> list[list[str]]:\n",
    "    return [input_list[i : i+slice_size] for i in range(0, len(input_list), slice_size)]\n",
    "\n",
    "test = list(range(25))\n",
    "split_list(test)"
   ]
  },
  {
   "cell_type": "code",
   "execution_count": 10,
   "metadata": {},
   "outputs": [
    {
     "data": {
      "application/vnd.jupyter.widget-view+json": {
       "model_id": "5b113363b2f0437db021571d8b01e67a",
       "version_major": 2,
       "version_minor": 0
      },
      "text/plain": [
       "  0%|          | 0/1208 [00:00<?, ?it/s]"
      ]
     },
     "metadata": {},
     "output_type": "display_data"
    }
   ],
   "source": [
    "for item in tqdm(pages):\n",
    "    item[\"sentence_chunks\"] = split_list(item[\"sentences\"], chunk_size)\n",
    "    item[\"num_chunks\"] = len(item[\"sentence_chunks\"])"
   ]
  },
  {
   "cell_type": "code",
   "execution_count": 11,
   "metadata": {},
   "outputs": [
    {
     "data": {
      "text/html": [
       "<div>\n",
       "<style scoped>\n",
       "    .dataframe tbody tr th:only-of-type {\n",
       "        vertical-align: middle;\n",
       "    }\n",
       "\n",
       "    .dataframe tbody tr th {\n",
       "        vertical-align: top;\n",
       "    }\n",
       "\n",
       "    .dataframe thead th {\n",
       "        text-align: right;\n",
       "    }\n",
       "</style>\n",
       "<table border=\"1\" class=\"dataframe\">\n",
       "  <thead>\n",
       "    <tr style=\"text-align: right;\">\n",
       "      <th></th>\n",
       "      <th>page_no</th>\n",
       "      <th>page_char_count</th>\n",
       "      <th>page_word_count</th>\n",
       "      <th>page_sentence_count</th>\n",
       "      <th>page_token_count</th>\n",
       "      <th>sentence_count_spacy</th>\n",
       "      <th>num_chunks</th>\n",
       "    </tr>\n",
       "  </thead>\n",
       "  <tbody>\n",
       "    <tr>\n",
       "      <th>count</th>\n",
       "      <td>1208.00</td>\n",
       "      <td>1208.00</td>\n",
       "      <td>1208.00</td>\n",
       "      <td>1208.00</td>\n",
       "      <td>1208.00</td>\n",
       "      <td>1208.00</td>\n",
       "      <td>1208.00</td>\n",
       "    </tr>\n",
       "    <tr>\n",
       "      <th>mean</th>\n",
       "      <td>562.50</td>\n",
       "      <td>1148.00</td>\n",
       "      <td>199.50</td>\n",
       "      <td>10.52</td>\n",
       "      <td>287.00</td>\n",
       "      <td>10.32</td>\n",
       "      <td>1.53</td>\n",
       "    </tr>\n",
       "    <tr>\n",
       "      <th>std</th>\n",
       "      <td>348.86</td>\n",
       "      <td>560.38</td>\n",
       "      <td>95.83</td>\n",
       "      <td>6.55</td>\n",
       "      <td>140.10</td>\n",
       "      <td>6.30</td>\n",
       "      <td>0.64</td>\n",
       "    </tr>\n",
       "    <tr>\n",
       "      <th>min</th>\n",
       "      <td>-41.00</td>\n",
       "      <td>0.00</td>\n",
       "      <td>1.00</td>\n",
       "      <td>1.00</td>\n",
       "      <td>0.00</td>\n",
       "      <td>0.00</td>\n",
       "      <td>0.00</td>\n",
       "    </tr>\n",
       "    <tr>\n",
       "      <th>25%</th>\n",
       "      <td>260.75</td>\n",
       "      <td>762.00</td>\n",
       "      <td>134.00</td>\n",
       "      <td>5.00</td>\n",
       "      <td>190.50</td>\n",
       "      <td>5.00</td>\n",
       "      <td>1.00</td>\n",
       "    </tr>\n",
       "    <tr>\n",
       "      <th>50%</th>\n",
       "      <td>562.50</td>\n",
       "      <td>1231.50</td>\n",
       "      <td>216.00</td>\n",
       "      <td>10.00</td>\n",
       "      <td>307.88</td>\n",
       "      <td>10.00</td>\n",
       "      <td>1.00</td>\n",
       "    </tr>\n",
       "    <tr>\n",
       "      <th>75%</th>\n",
       "      <td>864.25</td>\n",
       "      <td>1603.50</td>\n",
       "      <td>272.00</td>\n",
       "      <td>15.00</td>\n",
       "      <td>400.88</td>\n",
       "      <td>15.00</td>\n",
       "      <td>2.00</td>\n",
       "    </tr>\n",
       "    <tr>\n",
       "      <th>max</th>\n",
       "      <td>1166.00</td>\n",
       "      <td>2308.00</td>\n",
       "      <td>430.00</td>\n",
       "      <td>39.00</td>\n",
       "      <td>577.00</td>\n",
       "      <td>28.00</td>\n",
       "      <td>3.00</td>\n",
       "    </tr>\n",
       "  </tbody>\n",
       "</table>\n",
       "</div>"
      ],
      "text/plain": [
       "       page_no  page_char_count  page_word_count  page_sentence_count  \\\n",
       "count  1208.00          1208.00          1208.00              1208.00   \n",
       "mean    562.50          1148.00           199.50                10.52   \n",
       "std     348.86           560.38            95.83                 6.55   \n",
       "min     -41.00             0.00             1.00                 1.00   \n",
       "25%     260.75           762.00           134.00                 5.00   \n",
       "50%     562.50          1231.50           216.00                10.00   \n",
       "75%     864.25          1603.50           272.00                15.00   \n",
       "max    1166.00          2308.00           430.00                39.00   \n",
       "\n",
       "       page_token_count  sentence_count_spacy  num_chunks  \n",
       "count           1208.00               1208.00     1208.00  \n",
       "mean             287.00                 10.32        1.53  \n",
       "std              140.10                  6.30        0.64  \n",
       "min                0.00                  0.00        0.00  \n",
       "25%              190.50                  5.00        1.00  \n",
       "50%              307.88                 10.00        1.00  \n",
       "75%              400.88                 15.00        2.00  \n",
       "max              577.00                 28.00        3.00  "
      ]
     },
     "execution_count": 11,
     "metadata": {},
     "output_type": "execute_result"
    }
   ],
   "source": [
    "df = pd.DataFrame(pages)\n",
    "df.describe().round(2)"
   ]
  },
  {
   "cell_type": "code",
   "execution_count": 12,
   "metadata": {},
   "outputs": [
    {
     "data": {
      "application/vnd.jupyter.widget-view+json": {
       "model_id": "1766bf6a5e124ee0bd7fbda81157bcc3",
       "version_major": 2,
       "version_minor": 0
      },
      "text/plain": [
       "  0%|          | 0/1208 [00:00<?, ?it/s]"
      ]
     },
     "metadata": {},
     "output_type": "display_data"
    },
    {
     "data": {
      "text/plain": [
       "1843"
      ]
     },
     "execution_count": 12,
     "metadata": {},
     "output_type": "execute_result"
    }
   ],
   "source": [
    "# splitting chunks into its own item\n",
    "\n",
    "import re\n",
    "\n",
    "pages_chunks = []\n",
    "for item in tqdm(pages):\n",
    "    for chunk in item[\"sentence_chunks\"]:\n",
    "        chunk_dict = {}\n",
    "        chunk_dict[\"page_number\"] = item[\"page_no\"]\n",
    "        joined_chunk = \"\".join(chunk).replace(\"  \", \" \").strip()\n",
    "        joined_chunk = re.sub(r'\\.([A-Z])', r'. \\1', joined_chunk) # \".A\" -> \". A\"\n",
    "        chunk_dict[\"sentence_chunk\"] = joined_chunk\n",
    "        chunk_dict[\"chunk_char_count\"] = len(joined_chunk)\n",
    "        chunk_dict[\"chunk_word_count\"] = len([word for word in joined_chunk.split(\" \")])\n",
    "        chunk_dict[\"chunk_token_count\"] = len(joined_chunk) / 4\n",
    "        pages_chunks.append(chunk_dict)\n",
    "\n",
    "len(pages_chunks)"
   ]
  },
  {
   "cell_type": "code",
   "execution_count": 13,
   "metadata": {},
   "outputs": [
    {
     "data": {
      "text/html": [
       "<div>\n",
       "<style scoped>\n",
       "    .dataframe tbody tr th:only-of-type {\n",
       "        vertical-align: middle;\n",
       "    }\n",
       "\n",
       "    .dataframe tbody tr th {\n",
       "        vertical-align: top;\n",
       "    }\n",
       "\n",
       "    .dataframe thead th {\n",
       "        text-align: right;\n",
       "    }\n",
       "</style>\n",
       "<table border=\"1\" class=\"dataframe\">\n",
       "  <thead>\n",
       "    <tr style=\"text-align: right;\">\n",
       "      <th></th>\n",
       "      <th>page_number</th>\n",
       "      <th>chunk_char_count</th>\n",
       "      <th>chunk_word_count</th>\n",
       "      <th>chunk_token_count</th>\n",
       "    </tr>\n",
       "  </thead>\n",
       "  <tbody>\n",
       "    <tr>\n",
       "      <th>count</th>\n",
       "      <td>1843.00</td>\n",
       "      <td>1843.00</td>\n",
       "      <td>1843.00</td>\n",
       "      <td>1843.00</td>\n",
       "    </tr>\n",
       "    <tr>\n",
       "      <th>mean</th>\n",
       "      <td>583.38</td>\n",
       "      <td>734.10</td>\n",
       "      <td>112.74</td>\n",
       "      <td>183.52</td>\n",
       "    </tr>\n",
       "    <tr>\n",
       "      <th>std</th>\n",
       "      <td>347.79</td>\n",
       "      <td>447.51</td>\n",
       "      <td>71.24</td>\n",
       "      <td>111.88</td>\n",
       "    </tr>\n",
       "    <tr>\n",
       "      <th>min</th>\n",
       "      <td>-41.00</td>\n",
       "      <td>12.00</td>\n",
       "      <td>3.00</td>\n",
       "      <td>3.00</td>\n",
       "    </tr>\n",
       "    <tr>\n",
       "      <th>25%</th>\n",
       "      <td>280.50</td>\n",
       "      <td>315.00</td>\n",
       "      <td>45.00</td>\n",
       "      <td>78.75</td>\n",
       "    </tr>\n",
       "    <tr>\n",
       "      <th>50%</th>\n",
       "      <td>586.00</td>\n",
       "      <td>745.00</td>\n",
       "      <td>115.00</td>\n",
       "      <td>186.25</td>\n",
       "    </tr>\n",
       "    <tr>\n",
       "      <th>75%</th>\n",
       "      <td>890.00</td>\n",
       "      <td>1118.00</td>\n",
       "      <td>173.00</td>\n",
       "      <td>279.50</td>\n",
       "    </tr>\n",
       "    <tr>\n",
       "      <th>max</th>\n",
       "      <td>1166.00</td>\n",
       "      <td>1830.00</td>\n",
       "      <td>297.00</td>\n",
       "      <td>457.50</td>\n",
       "    </tr>\n",
       "  </tbody>\n",
       "</table>\n",
       "</div>"
      ],
      "text/plain": [
       "       page_number  chunk_char_count  chunk_word_count  chunk_token_count\n",
       "count      1843.00           1843.00           1843.00            1843.00\n",
       "mean        583.38            734.10            112.74             183.52\n",
       "std         347.79            447.51             71.24             111.88\n",
       "min         -41.00             12.00              3.00               3.00\n",
       "25%         280.50            315.00             45.00              78.75\n",
       "50%         586.00            745.00            115.00             186.25\n",
       "75%         890.00           1118.00            173.00             279.50\n",
       "max        1166.00           1830.00            297.00             457.50"
      ]
     },
     "execution_count": 13,
     "metadata": {},
     "output_type": "execute_result"
    }
   ],
   "source": [
    "df = pd.DataFrame(pages_chunks)\n",
    "df.describe().round(2)"
   ]
  },
  {
   "cell_type": "markdown",
   "metadata": {},
   "source": [
    "Filter chunks of texts with short chunks as they don't have much info"
   ]
  },
  {
   "cell_type": "code",
   "execution_count": 14,
   "metadata": {},
   "outputs": [
    {
     "name": "stdout",
     "output_type": "stream",
     "text": [
      "Chunk token count: 11.0 | Text: 978 | Food Supplements and Food Replacements\n",
      "Chunk token count: 13.25 | Text: PART IX CHAPTER 9. VITAMINS Chapter 9. Vitamins | 513\n",
      "Chunk token count: 24.75 | Text: Table 9.33 Some Phytochemical’s Obtained from Diet and Their Related Functions 600 | Phytochemicals\n",
      "Chunk token count: 16.75 | Text: PART XI CHAPTER 11. TRACE MINERALS Chapter 11. Trace Minerals | 649\n",
      "Chunk token count: 16.25 | Text: Complementary foods include baby meats, vegetables, Infancy | 837\n"
     ]
    }
   ],
   "source": [
    "from random import sample\n",
    "\n",
    "min_token_length = 30\n",
    "for row in df[df[\"chunk_token_count\"] < min_token_length].sample(5).iterrows():\n",
    "    print(f\"Chunk token count: {row[1][\"chunk_token_count\"]} | Text: {row[1][\"sentence_chunk\"]}\")"
   ]
  },
  {
   "cell_type": "markdown",
   "metadata": {},
   "source": [
    "Most of the above are useless sentences"
   ]
  },
  {
   "cell_type": "code",
   "execution_count": 15,
   "metadata": {},
   "outputs": [
    {
     "data": {
      "text/plain": [
       "[{'page_number': 1072,\n",
       "  'sentence_chunk': 'The Health At Every Size® Principles are: 1. Weight Inclusivity: Accepting and respecting the diversity of body shapes and sizes 2. Health Enhancement: Recognizing that health and well-being are multi-dimensional and that they include physical, social, spiritual, occupational, emotional, and intellectual aspects 3. Respectful Care: Promoting all aspects of health and well- being for people of all sizes 4. Eating for Well-being: Promoting eating in a manner which balances individualized nutritional needs, hunger, satiety, appetite, and pleasure 5. Life-Enhancing Movement: Promoting individually appropriate, enjoyable, life-enhancing physical activity, rather than exercise that is focused on a goal of weight loss In the Hawaiian language, Lokahi means “unity, agreement, accord, and harmony”.23 The concept of Lokahi can be used to describe the balance between the relationship an individual has with the body, the mind, the spirit, and the rest of the world. The image below illustrates the overlap of the Hawaiian principle of Lokahi with the Health at Every Size principle #2: Health enhancement. 23. Ulukau Hawaiian Electronic Library. http://wehewehe.org/ 1072 | Calories In Versus Calories Out',\n",
       "  'chunk_char_count': 1207,\n",
       "  'chunk_word_count': 175,\n",
       "  'chunk_token_count': 301.75}]"
      ]
     },
     "execution_count": 15,
     "metadata": {},
     "output_type": "execute_result"
    }
   ],
   "source": [
    "pages_chunks_mod = df[df[\"chunk_token_count\"] >= min_token_length].to_dict(orient=\"records\")\n",
    "sample(pages_chunks_mod, k=1)"
   ]
  },
  {
   "cell_type": "markdown",
   "metadata": {},
   "source": [
    "### Embedding text chunks"
   ]
  },
  {
   "cell_type": "code",
   "execution_count": 42,
   "metadata": {},
   "outputs": [],
   "source": [
    "model_name1 = 'all-mpnet-base-v2'\n",
    "model_name2 = 'all-MiniLM-L6-v2'"
   ]
  },
  {
   "cell_type": "code",
   "execution_count": 17,
   "metadata": {},
   "outputs": [
    {
     "name": "stderr",
     "output_type": "stream",
     "text": [
      "/home/rudradeep/projects/simple-local-rag/venv/lib/python3.12/site-packages/huggingface_hub/file_download.py:1142: FutureWarning: `resume_download` is deprecated and will be removed in version 1.0.0. Downloads always resume when possible. If you want to force a new download, use `force_download=True`.\n",
      "  warnings.warn(\n"
     ]
    },
    {
     "name": "stdout",
     "output_type": "stream",
     "text": [
      "Sentence: This is a demo sentence to demo the easy way. , \n",
      " Embedding: [ 2.24922150e-02  9.20272991e-02  1.33178579e-02  4.66368794e-02\n",
      "  2.50298996e-02  2.26061549e-02 -8.93865246e-03  1.32816667e-02\n",
      " -6.94798604e-02  5.47935478e-02  9.02975351e-02 -9.00119916e-03\n",
      "  1.86062511e-02 -1.08054159e-02  7.46785700e-02 -2.84844381e-03\n",
      " -2.50427332e-03  7.94730242e-03 -3.32841016e-02  5.36604933e-02\n",
      "  2.20836326e-02 -5.19668199e-02  3.11571974e-02 -6.01953119e-02\n",
      " -9.41922516e-03  4.49277610e-02 -6.37429720e-03  5.98195717e-02\n",
      "  1.44849882e-01 -1.01143774e-02 -1.28989089e-02  5.53992689e-02\n",
      "  6.45775199e-02 -1.05384495e-02  2.76985597e-02 -2.73017306e-02\n",
      "  3.02649736e-02  1.20514429e-04 -9.01867449e-03  2.80545112e-02\n",
      " -2.21211230e-03 -7.46103600e-02 -2.23740768e-02  3.74712497e-02\n",
      " -2.28923652e-02 -1.51640614e-02 -5.46111539e-02 -3.60314287e-02\n",
      "  3.48155722e-02 -1.82313975e-02  2.44543329e-02 -8.21313336e-02\n",
      " -6.88981190e-02 -1.02191791e-01  1.66651495e-02 -1.76256374e-02\n",
      " -6.89869514e-03  1.77315567e-02  2.96677724e-02  3.35976258e-02\n",
      "  6.01886213e-03 -1.94189567e-02 -1.01560585e-01  8.50880966e-02\n",
      "  9.19974893e-02 -1.38086965e-02  3.26046683e-02 -3.70418280e-02\n",
      " -6.13299832e-02  2.02750042e-02  9.96693503e-03  2.48811916e-02\n",
      "  4.14790586e-03 -3.06644738e-02 -6.87132729e-03 -7.18556270e-02\n",
      " -2.00144034e-02 -3.96425202e-02  5.34411632e-02  4.94549237e-02\n",
      "  3.47517692e-02 -9.49224085e-02 -7.38657415e-02  4.21079770e-02\n",
      " -4.73103188e-02 -3.37279378e-03 -3.28923799e-02 -6.66371807e-02\n",
      "  5.22483252e-02 -2.24569570e-02 -5.81994727e-02  2.86154263e-02\n",
      "  3.50140147e-02  3.54947373e-02 -9.99788791e-02 -5.85886873e-02\n",
      " -2.73804292e-02  3.16581912e-02 -5.89883737e-02  9.77586359e-02\n",
      "  5.27455937e-03  3.10375933e-02 -3.01486719e-03 -3.65306102e-02\n",
      " -7.06682429e-02 -1.37815371e-01  2.96571129e-03  2.21193279e-03\n",
      "  3.21227573e-02  3.10811885e-02 -1.90654323e-02 -4.01498796e-03\n",
      "  9.03865397e-02  1.10737467e-02  2.48573571e-02 -6.64141960e-03\n",
      " -9.27718356e-02 -2.52213646e-02  4.35208809e-03 -3.82038229e-03\n",
      "  3.96165475e-02  3.72699350e-02 -4.34136047e-04  1.42455334e-02\n",
      " -1.36524215e-02 -6.90682083e-02  1.72375217e-02 -6.25021660e-33\n",
      "  8.05632323e-02  9.88522619e-02  5.45019731e-02  1.28202811e-02\n",
      "  9.36122797e-03 -3.48929651e-02 -3.95847447e-02 -9.87856090e-03\n",
      " -1.15150675e-01  1.39637575e-01  7.91923627e-02 -6.31038025e-02\n",
      " -3.80176352e-03  4.45815325e-02  1.86724979e-02 -3.98614705e-02\n",
      " -8.07872489e-02  4.49937508e-02 -1.37332454e-01  1.55877303e-02\n",
      "  2.49216962e-03  1.67386178e-02  5.49125969e-02 -7.21288472e-02\n",
      "  4.38932283e-03 -7.38373175e-02 -2.18857192e-02 -1.12104351e-02\n",
      "  5.91855869e-02  8.99887737e-03 -1.57935768e-02  4.58932569e-04\n",
      " -5.47969677e-02  2.29422823e-02  5.08585945e-02  3.86027172e-02\n",
      "  8.46689343e-02 -3.60980444e-02 -4.58693542e-02  2.92389803e-02\n",
      " -1.02748200e-01 -2.22230610e-02  6.45066984e-03 -2.45447513e-02\n",
      "  9.17099789e-02  1.21122204e-01  5.77124674e-03 -8.10965076e-02\n",
      " -1.28952507e-02  4.01994539e-03 -3.94219980e-02  6.29766881e-02\n",
      "  1.48308529e-02 -1.32777803e-02  2.94941869e-02  3.30083817e-02\n",
      "  1.90193933e-02  5.35601424e-03 -2.27174233e-03  2.12525390e-02\n",
      " -3.16120610e-02  2.79531125e-02 -2.80901995e-02  8.60877633e-02\n",
      " -2.39132475e-02  2.00677179e-02  1.61879659e-02 -4.89908978e-02\n",
      "  5.45439497e-02 -6.24699099e-03 -8.87512043e-02 -2.69433912e-02\n",
      " -1.24999933e-01  1.23093678e-02 -2.76465975e-02 -7.85650034e-03\n",
      "  5.57875223e-02  2.22557168e-02  4.17890549e-02 -9.35756322e-03\n",
      " -4.04026508e-02 -5.33679910e-02 -4.03066501e-02  6.65753260e-02\n",
      "  5.20555116e-02  9.97082097e-05  9.21497121e-03 -6.30029589e-02\n",
      " -3.52223287e-03  1.43114487e-02 -5.25343232e-02  4.19059433e-02\n",
      " -4.84836511e-02 -6.08578175e-02  6.58419728e-02  4.51134087e-33\n",
      " -6.40274212e-03  3.56449485e-02 -9.44350213e-02  2.83720847e-02\n",
      "  1.27889533e-02 -9.39427223e-03  4.68716584e-02 -2.10319776e-02\n",
      "  1.25204816e-01  6.07955009e-02 -9.29201096e-02  4.85626981e-02\n",
      " -2.29671784e-03 -2.03158762e-02  6.06730953e-02 -1.31437490e-02\n",
      " -1.97157394e-02 -1.08378101e-02 -3.75231840e-02  7.35293180e-02\n",
      " -5.84673584e-02  9.32162330e-02 -3.08074267e-03  2.17129104e-02\n",
      " -1.77243575e-02 -1.46558573e-02 -2.17752308e-02  8.08558762e-02\n",
      "  3.71736847e-02 -2.22132541e-02 -7.52629340e-03 -1.07739091e-01\n",
      " -9.57552642e-02  9.78220906e-03  5.27747616e-04  5.80666140e-02\n",
      "  5.71409728e-05 -3.88638191e-02 -6.03411254e-03 -7.88510591e-03\n",
      " -8.21216181e-02 -1.46662751e-02 -8.63645375e-02  3.14694154e-03\n",
      " -2.60422425e-03 -2.09138524e-02 -3.18529061e-03 -1.50471583e-01\n",
      "  1.07315546e-02  1.35824047e-02 -2.79407017e-03  2.55724713e-02\n",
      " -6.64478540e-02 -7.68413302e-03  6.02404475e-02 -2.90354388e-03\n",
      "  1.88841429e-02 -2.61257943e-02  9.02109891e-02  4.96173427e-02\n",
      " -4.29190770e-02  5.99205717e-02 -8.86740256e-03 -7.18177333e-02\n",
      "  2.44327374e-02 -9.41310573e-05 -3.71608995e-02  6.99024647e-02\n",
      " -4.13816944e-02 -2.83285677e-02  7.18675961e-04  2.04889365e-02\n",
      " -2.21267380e-02 -1.12644816e-02 -3.74701177e-03 -3.38764898e-02\n",
      " -4.34925081e-03  2.77564172e-02 -1.55078406e-02 -1.01729020e-01\n",
      "  8.63512829e-02 -6.26376718e-02  3.24407965e-03 -5.81067950e-02\n",
      " -4.06989269e-02 -2.47904379e-02  2.80717872e-02 -9.43920463e-02\n",
      "  1.91028137e-02  4.30270359e-02 -7.67806843e-02  1.78485401e-02\n",
      "  1.65899202e-01  1.26415536e-01 -2.33179741e-02 -2.21637002e-08\n",
      " -1.55706080e-02 -3.75787318e-02  1.22424141e-02  2.32873037e-02\n",
      "  1.08263483e-02  6.04741238e-02  3.92941982e-02 -2.89736334e-02\n",
      " -4.57497910e-02 -5.89732751e-02  4.61868644e-02 -2.06433795e-02\n",
      " -4.34025861e-02  1.59784272e-01  1.48290843e-02  7.15548098e-02\n",
      " -4.47046570e-02  3.37396897e-02 -6.46036342e-02  5.40187918e-02\n",
      " -4.26699854e-02  6.17012046e-02  4.11969610e-02 -4.77912128e-02\n",
      "  1.59313958e-02  2.58530956e-03  2.59209052e-02  3.85089107e-02\n",
      "  2.68752943e-03  2.24219635e-02  2.17748582e-02  7.59511515e-02\n",
      " -5.81749007e-02  6.03035651e-02 -2.21119355e-02  1.78076178e-02\n",
      "  4.12586750e-03  1.42590003e-02  1.07005872e-02  1.33926319e-02\n",
      " -2.58641038e-02  6.24887086e-02 -1.01828478e-01  6.84638843e-02\n",
      " -1.35046812e-02  3.44500467e-02  6.44251332e-02 -9.79981869e-02\n",
      " -9.78668313e-03 -4.29353192e-02 -1.11063700e-02 -2.11871639e-02\n",
      "  6.34527579e-02 -5.15240058e-02  6.65501058e-02  6.40432090e-02\n",
      " -9.46001243e-03  4.70575653e-02 -1.38122011e-02  9.27392766e-02\n",
      " -9.69296321e-03  9.41191614e-02  9.41974819e-02 -5.11926673e-02]\n",
      "Sentence: Today is a good day to like horses, \n",
      " Embedding: [-4.75663245e-02  6.33696616e-02  1.15998112e-01  2.88160928e-02\n",
      " -3.22719328e-02 -3.61317024e-02  7.40380883e-02 -5.48388511e-02\n",
      " -7.32062990e-03  2.44258251e-02 -2.43263203e-03  4.78731059e-02\n",
      "  4.27966751e-02  6.02873340e-02 -4.75671254e-02  3.20256352e-02\n",
      " -2.47507971e-02  2.23995023e-03 -1.20403700e-01  7.69473538e-02\n",
      " -1.76925704e-01  6.18790612e-02 -2.21813191e-02  4.98245284e-02\n",
      " -9.78315175e-02  1.68286301e-02  4.23054770e-03 -4.50196713e-02\n",
      " -4.65013757e-02  3.80431674e-02 -1.08898260e-01 -2.73033548e-02\n",
      " -5.81917912e-02 -5.63016981e-02 -3.96202244e-02 -1.72414966e-02\n",
      "  3.21867131e-02 -1.17640711e-01 -5.29466756e-03  3.07777990e-02\n",
      "  2.69961413e-02 -1.20650284e-01 -7.12224608e-03  7.96695724e-02\n",
      "  4.33764048e-02  2.39102300e-02  4.59705889e-02 -1.01333177e-02\n",
      "  1.78708345e-01  7.77956331e-03 -3.34946439e-02 -1.21875256e-02\n",
      " -1.70932002e-02 -6.53890520e-02 -8.15988332e-03  8.25876445e-02\n",
      " -2.21062731e-02  6.16361536e-02  7.21699446e-02 -2.38913763e-02\n",
      "  2.23132409e-02  4.97934110e-02  7.86380991e-02  9.66470689e-03\n",
      " -9.08950251e-03  1.32575473e-02 -9.57620963e-02  2.29464639e-02\n",
      " -3.79855745e-02  4.24072817e-02 -6.46112934e-02 -1.69999916e-02\n",
      "  6.10189028e-02 -5.28080203e-02 -4.21975218e-02  8.86468887e-02\n",
      " -6.45826906e-02 -2.41189376e-02  3.24911810e-02 -3.28327417e-02\n",
      "  1.20448163e-02 -4.41033207e-02  1.66748557e-02 -3.96253029e-03\n",
      " -1.15216132e-02  2.81383339e-02 -2.35201623e-02 -1.05516538e-02\n",
      " -1.92217324e-02 -5.22065163e-02 -9.83582363e-02 -8.55194498e-03\n",
      " -4.45241109e-02  4.30753827e-02  6.34741932e-02 -5.75099029e-02\n",
      " -1.92334852e-03  9.01158899e-02 -7.05838501e-02  1.13815084e-01\n",
      "  7.42877796e-02  1.17889345e-01 -2.18716916e-02  1.65670889e-03\n",
      "  7.23261982e-02  4.99902293e-02 -1.37942284e-01  2.23268233e-02\n",
      " -6.37910962e-02 -8.52439702e-02 -2.59626880e-02 -1.88003050e-03\n",
      "  4.30296026e-02  2.38503218e-02  5.01019619e-02  6.18277341e-02\n",
      " -2.89713684e-02  3.97763066e-02 -3.95239778e-02  3.76406312e-02\n",
      " -1.86482053e-02 -1.08931949e-02  6.16723374e-02 -1.59729458e-02\n",
      " -5.01025934e-03  5.09203412e-03  4.64513674e-02 -5.10342011e-33\n",
      " -4.48960401e-02 -4.41163294e-02  1.77386291e-02 -1.38336802e-02\n",
      " -5.38612669e-03 -1.31043419e-02 -3.26209553e-02 -1.22091295e-02\n",
      " -6.29160106e-02 -1.24280289e-01  3.26808775e-03 -4.73425277e-02\n",
      " -2.94695236e-02 -4.98903915e-02 -4.32469957e-02 -8.55948627e-02\n",
      "  1.11196644e-03  6.78498019e-03  9.19476617e-03  3.16188782e-02\n",
      " -2.14781612e-02  1.87168010e-02 -1.64928008e-02  7.76663795e-03\n",
      "  3.53051051e-02 -5.71703762e-02  2.83682700e-02 -5.87805770e-02\n",
      " -7.44552314e-02  2.39341035e-02 -5.25172008e-03 -5.19370921e-02\n",
      "  7.55795985e-02 -2.18043737e-02 -2.10058931e-02 -4.56809951e-03\n",
      " -6.15178160e-02 -4.83320840e-02 -5.30762672e-02  2.11972911e-02\n",
      "  9.44808647e-02 -6.57920772e-03  3.85731235e-02 -7.39214495e-02\n",
      " -1.01451613e-02  9.74647477e-02  4.80495654e-02  1.14711329e-01\n",
      " -9.82556026e-03 -2.55932659e-02 -1.01846608e-03  1.49713913e-02\n",
      "  4.43703011e-02  2.29209773e-02 -5.64755825e-03 -2.17227787e-02\n",
      " -4.02465686e-02  6.73140734e-02  7.49584334e-03 -9.74153448e-03\n",
      " -1.99236032e-02  3.00435200e-02  5.93027333e-03 -9.41335559e-02\n",
      " -6.76733777e-02 -3.21836285e-02  1.97019503e-02  5.14256619e-02\n",
      " -4.64531295e-02  5.08026555e-02  5.45001701e-02  2.97307875e-02\n",
      " -8.03988427e-02 -6.02860339e-02  1.86174698e-02  1.05397664e-02\n",
      "  3.86765748e-02 -1.07665509e-01 -2.78218486e-03 -9.27950907e-03\n",
      "  3.05903666e-02 -9.57192678e-04 -1.51587324e-02 -5.42316288e-02\n",
      "  1.06365465e-01  7.51221776e-02 -1.39202119e-03 -5.79885431e-02\n",
      "  1.48616983e-02  2.78850994e-03 -3.93804498e-02  2.73128506e-02\n",
      " -2.93538179e-02 -2.06213016e-02  2.20646691e-02  3.29015910e-33\n",
      "  7.91002661e-02  1.92567911e-02 -4.79264334e-02  1.31079361e-01\n",
      " -5.09402379e-02 -7.62311220e-02 -1.10994438e-02  2.05251183e-02\n",
      " -2.32383050e-02  1.01560280e-01  2.02302244e-02  6.48660660e-02\n",
      " -1.46260401e-02  1.28888909e-03  5.64579889e-02 -8.54563564e-02\n",
      "  7.31557980e-02  9.56183020e-03  6.99864374e-03 -1.32796159e-02\n",
      " -6.49897307e-02  8.66898242e-03 -7.59017766e-02  5.93990870e-02\n",
      "  6.78320648e-03  8.73435959e-02 -8.90977979e-02  8.85775127e-03\n",
      " -3.86116989e-02 -4.99294838e-03 -2.30086111e-02 -2.64141522e-02\n",
      " -7.55296350e-02  4.40499932e-02 -2.67346520e-02  1.18491724e-02\n",
      "  4.45409901e-02 -7.38765746e-02  8.92776297e-04 -9.16630123e-03\n",
      " -2.01986134e-02  4.67126165e-03  5.27090812e-03 -1.24349613e-02\n",
      " -6.90561486e-03  3.95909660e-02 -1.57553721e-02  5.04592024e-02\n",
      "  1.78656671e-02  6.24931380e-02  3.17733884e-02  5.50957136e-02\n",
      "  4.02036905e-02 -3.17387059e-02  4.36879843e-02 -3.18550169e-02\n",
      "  5.35880029e-03 -6.19492643e-02 -3.50999013e-02 -1.32020926e-02\n",
      " -1.05577499e-01  2.29428001e-02 -6.51326254e-02  1.75386220e-02\n",
      "  1.98154226e-02 -6.19941689e-02 -7.90221766e-02 -1.49163259e-02\n",
      " -2.81265266e-02 -4.48372727e-03 -3.84885333e-02 -1.46795344e-02\n",
      " -9.26708356e-02 -1.21767949e-02 -5.60237514e-03  2.02109665e-02\n",
      "  7.46780783e-02  1.28349615e-02  4.55340222e-02 -2.00260570e-03\n",
      " -1.04194023e-01  1.92488600e-02  5.76528795e-02  5.20217456e-02\n",
      " -1.79329328e-02 -2.74418760e-02 -4.66653816e-02  2.07738057e-02\n",
      "  4.02437039e-02  6.34015724e-02  1.95791647e-02  2.66983937e-02\n",
      " -2.28836127e-02  3.22092250e-02  3.04648839e-03 -1.76182411e-08\n",
      "  3.12113278e-02 -2.31346255e-03 -6.24345019e-02  1.92186832e-02\n",
      " -2.67658196e-02 -9.70957056e-03 -5.87208308e-02  1.70647621e-03\n",
      " -3.87088880e-02  4.25695926e-02  1.74174830e-01  4.30854224e-02\n",
      " -7.62276351e-02  2.62945723e-02  6.78392947e-02  9.67418961e-03\n",
      "  5.58124520e-02 -4.62187715e-02 -7.14035239e-03  1.25120850e-02\n",
      "  1.24804266e-02  6.01128489e-03 -1.67599134e-02  2.01379843e-02\n",
      "  6.21894635e-02 -2.18698233e-02 -1.74312238e-02  4.94364388e-02\n",
      "  6.00391207e-03  4.19385955e-02 -4.07100748e-03  4.91225421e-02\n",
      " -7.75405467e-02 -5.65046147e-02  1.31558944e-02 -4.12612408e-02\n",
      " -1.44481231e-02 -8.91884975e-03  3.20865363e-02 -6.92972243e-02\n",
      " -5.02220988e-02  4.57532629e-02  4.97372858e-02 -2.22189724e-02\n",
      "  1.12335812e-02  1.13327866e-02  1.30463064e-01  8.22816568e-04\n",
      " -8.62686560e-02 -3.72536369e-02 -1.12359524e-02  4.29614186e-02\n",
      "  1.45321622e-01  6.99426681e-02  1.35499090e-02  3.92879248e-02\n",
      " -1.18005127e-02  1.12626366e-02 -1.46381510e-02 -8.72698554e-04\n",
      " -5.10095246e-02  1.35837812e-02  8.91255494e-03  2.06417125e-02]\n",
      "Sentence: Icecream is the best, \n",
      " Embedding: [-3.48384641e-02 -7.28988871e-02 -2.12741885e-02  5.80967665e-02\n",
      " -3.47168557e-02  5.08842394e-02  4.08443063e-02  8.65234882e-02\n",
      "  1.77082885e-02 -3.58608179e-02 -4.12502326e-02 -1.74132735e-02\n",
      " -3.27652022e-02  3.42965149e-03  6.31048437e-03  2.85664643e-03\n",
      "  1.23743750e-01  3.46605736e-03  6.87013268e-02 -1.24827139e-01\n",
      "  3.24344374e-02 -6.38772920e-02  6.30862638e-02  2.42031328e-02\n",
      "  1.68913528e-02  7.34883994e-02  6.23101741e-02  1.13407597e-02\n",
      "  1.75290939e-03 -3.95024903e-02  1.19086849e-02 -2.73233792e-03\n",
      "  5.48095442e-02 -5.32035306e-02 -5.83582781e-02  1.89005409e-03\n",
      " -1.74950273e-03 -7.36381933e-02 -9.07452181e-02 -8.61092377e-03\n",
      "  4.76692729e-02  1.15051068e-01  2.07633097e-02 -1.61720887e-02\n",
      " -1.19749941e-02 -2.22517783e-03 -8.24217685e-03  3.44544053e-02\n",
      "  1.94559731e-02  7.50337914e-02 -5.28100207e-02 -8.32320750e-02\n",
      " -5.53904139e-02  6.24507889e-02  1.67587725e-03 -1.89517345e-03\n",
      " -8.48727152e-02 -8.63443837e-02  2.83591785e-02  4.34688292e-02\n",
      " -3.76137309e-02  4.49310169e-02  1.06580919e-02 -5.53792948e-03\n",
      "  4.47691344e-02 -8.33804812e-03 -2.14321911e-02  7.54874051e-02\n",
      "  2.05952693e-02  3.78535688e-02 -4.77431118e-02  2.32581515e-02\n",
      "  5.39450441e-04  4.96442914e-02 -5.02104536e-02  5.48384301e-02\n",
      "  1.02854976e-02 -1.05922654e-01 -3.37382779e-02  7.94557557e-02\n",
      " -6.77687116e-03 -4.92721284e-03  6.58139065e-02  5.11593893e-02\n",
      "  6.79672463e-03 -4.42970060e-02  3.52815799e-02  1.87961906e-02\n",
      " -3.97434980e-02 -9.48990509e-03  3.72051224e-02  9.17769819e-02\n",
      "  2.05969941e-02  1.69735271e-02 -7.48282718e-03 -2.46913973e-02\n",
      " -6.65766839e-03 -8.62875655e-02 -8.91739652e-02  1.06608272e-02\n",
      "  1.55158062e-02  3.99885438e-02 -6.09545670e-02 -1.29094392e-01\n",
      "  7.27048069e-02 -4.29521501e-03  4.51186039e-02 -9.73744318e-02\n",
      "  1.06533296e-01  6.75373375e-02 -2.06144270e-03 -4.85198684e-02\n",
      " -7.80881494e-02  2.12822426e-02 -1.01163397e-02  4.38799337e-02\n",
      " -1.32530491e-04  9.17221978e-03 -7.32414275e-02  5.65184504e-02\n",
      " -8.23025107e-02  1.01080155e-02  8.03563278e-03 -1.10471500e-02\n",
      " -1.23099179e-03 -5.04078306e-02  5.22807650e-02 -1.74035502e-33\n",
      " -1.79536697e-02 -1.35115795e-02 -2.38719992e-02 -1.48392422e-02\n",
      "  8.37393925e-02 -3.26171517e-02  4.89700772e-02 -4.77951078e-04\n",
      " -4.87643220e-02  3.09410524e-02 -3.78705487e-02 -4.23717983e-02\n",
      " -8.89003202e-02  1.09552287e-01  1.93879455e-02 -4.20201793e-02\n",
      " -6.97413310e-02  5.53601049e-02 -5.17507829e-02  4.99359593e-02\n",
      " -1.44136185e-02  3.73896696e-02  6.23699501e-02  1.70389898e-02\n",
      "  2.08297092e-02  6.89214468e-02  3.41912806e-02  6.68234229e-02\n",
      "  7.15224445e-02 -1.86101533e-02  2.72214673e-02 -3.20090465e-02\n",
      " -7.77548999e-02  9.19171516e-03 -1.78766418e-02  5.16106561e-02\n",
      " -6.43716455e-02 -7.35319033e-02 -1.59719773e-02 -1.98686067e-02\n",
      "  3.94985378e-02  4.38827602e-03 -4.47413512e-02 -1.12562655e-02\n",
      "  2.47526020e-02 -2.12201402e-02 -2.86189821e-02 -2.32806299e-02\n",
      "  4.34034467e-02 -5.98573126e-02  7.83005077e-03  5.32541350e-02\n",
      " -6.13897480e-03  4.82245237e-02 -7.03835636e-02 -1.52210072e-02\n",
      " -2.43327059e-02  6.62225783e-02  6.04817271e-02  1.66342184e-02\n",
      " -7.11637288e-02 -2.30282508e-02 -2.28658319e-02 -9.30123962e-03\n",
      " -2.81753577e-02  6.96391016e-02 -7.16814250e-02 -3.51070799e-02\n",
      " -8.45818222e-02 -2.99454685e-02  4.83644269e-02 -3.50456312e-02\n",
      "  1.03175178e-01  5.46439812e-02 -2.24912558e-02 -5.14801294e-02\n",
      " -4.64987056e-03  1.55603318e-02 -7.22424835e-02 -8.74056388e-03\n",
      "  2.23684683e-02  2.00529350e-03 -2.35524401e-02  5.23187518e-02\n",
      " -6.70748129e-02  2.32094359e-02 -3.56544182e-02  4.65905778e-02\n",
      "  3.86116952e-02  1.00523919e-01 -1.06208041e-01 -2.93292738e-02\n",
      "  6.91100806e-02  6.06619865e-02 -8.59867334e-02  1.54732489e-33\n",
      " -1.30494265e-02 -6.61739409e-02  1.05094956e-03  1.09865107e-01\n",
      "  2.99500730e-02 -1.88487507e-02  3.01837139e-02  1.41769659e-03\n",
      "  6.09735399e-02 -1.83109250e-02  3.79337147e-02 -4.40886319e-02\n",
      "  4.01209779e-02 -3.07519119e-02  7.38830268e-02  1.04694739e-01\n",
      "  4.85060029e-02  2.58100443e-02 -3.20601761e-02 -1.97921023e-02\n",
      " -2.30824053e-02  6.71189725e-02 -2.59264130e-02 -3.37403379e-02\n",
      "  1.14710061e-02  6.46124855e-02  3.93092865e-03  1.76042411e-02\n",
      " -3.83924022e-02 -8.06910079e-03  4.41485792e-02  2.84495521e-02\n",
      " -5.37930913e-02 -1.05912432e-01 -9.10803899e-02  9.42609012e-02\n",
      " -3.85228880e-02 -2.15279646e-02 -1.08663447e-01  9.07218382e-02\n",
      "  6.43136445e-03 -1.01856343e-01  1.18244737e-02  8.30577761e-02\n",
      "  2.74126511e-02 -1.50877414e-02 -7.47929439e-02 -2.82507967e-02\n",
      "  3.87385115e-02  7.80078620e-02 -4.35031727e-02 -3.62326950e-02\n",
      " -4.27491404e-02  2.35586260e-02  8.54022726e-02 -5.19178882e-02\n",
      " -6.82869703e-02 -2.08164304e-02 -6.49361685e-02 -5.55850081e-02\n",
      " -5.40690497e-02  5.54893631e-03 -1.63855255e-02  3.54068092e-04\n",
      "  6.95175827e-02  7.60306492e-02  3.87093946e-02 -3.46032158e-02\n",
      " -7.47055858e-02  1.74250174e-02  7.01962113e-02  1.16333989e-02\n",
      "  3.99460457e-02 -2.90987710e-03 -2.75277179e-02  4.10655811e-02\n",
      " -8.88016447e-03  7.80207012e-03 -4.28008288e-02 -8.67873505e-02\n",
      "  2.96593998e-02  1.44674368e-02 -5.77310733e-02  6.39383942e-02\n",
      "  2.95581222e-02  6.19769283e-02  4.68830243e-02 -1.71872191e-02\n",
      " -5.74504361e-02  6.49083555e-02  7.42759975e-03 -7.03640059e-02\n",
      " -8.97399429e-03 -8.78867041e-03  6.79173693e-02 -1.41702738e-08\n",
      "  3.11533399e-02 -3.93814333e-02  2.90703829e-02  7.57661536e-02\n",
      " -2.72520520e-02 -7.12566078e-02 -5.79131171e-02  3.27860266e-02\n",
      " -4.94196825e-02 -1.98203232e-02  5.92783988e-02  1.12527609e-02\n",
      "  1.97239872e-02  5.30799851e-02 -4.96427976e-02 -1.08865842e-01\n",
      "  5.65520376e-02  7.24333376e-02 -3.25462557e-02  2.38346355e-03\n",
      " -1.48288369e-01  2.78856829e-02  3.31433155e-02 -9.99005362e-02\n",
      " -9.40725952e-03  8.26962851e-03  1.18397124e-01  1.23792654e-02\n",
      "  6.41978458e-02  4.99911867e-02 -3.03365402e-02  4.38803248e-03\n",
      "  9.25804079e-02 -9.66736022e-03  9.02653188e-02 -1.69321932e-02\n",
      "  3.48243117e-02  5.59746362e-02 -5.28656766e-02 -1.48962513e-02\n",
      " -2.64728144e-02  2.07756367e-02 -1.03699910e-02 -4.83731646e-03\n",
      " -1.19466200e-01 -2.56147329e-03  8.10609944e-03 -1.43927308e-02\n",
      "  4.48622592e-02  9.26391482e-02 -3.23857516e-02 -3.76998883e-04\n",
      " -2.02033166e-02  4.44398820e-03  6.45335987e-02  7.07509816e-02\n",
      " -1.12081198e-02 -6.36276677e-02 -1.23596648e-02  4.36391272e-02\n",
      "  3.03866714e-03 -3.68485451e-02  1.06307827e-02  5.33437580e-02]\n"
     ]
    }
   ],
   "source": [
    "from sentence_transformers import SentenceTransformer\n",
    "\n",
    "embed_model = SentenceTransformer(model_name_or_path=model_name2, device='cuda')\n",
    "\n",
    "# demo  \n",
    "sentences = ['This is a demo sentence to demo the easy way. ', \n",
    "             'Today is a good day to like horses', 'Icecream is the best']\n",
    "embeddings = embed_model.encode(sentences=sentences)\n",
    "embed_dict = dict(zip(sentences, embeddings))\n",
    "\n",
    "for sentence, embeddings in embed_dict.items():\n",
    "    print(f\"Sentence: {sentence}, \\n Embedding: {embeddings}\")"
   ]
  },
  {
   "cell_type": "code",
   "execution_count": 20,
   "metadata": {},
   "outputs": [
    {
     "data": {
      "text/plain": [
       "(384,)"
      ]
     },
     "execution_count": 20,
     "metadata": {},
     "output_type": "execute_result"
    }
   ],
   "source": [
    "embeddings.shape"
   ]
  },
  {
   "cell_type": "code",
   "execution_count": 21,
   "metadata": {},
   "outputs": [
    {
     "data": {
      "application/vnd.jupyter.widget-view+json": {
       "model_id": "85da65b4c7cb4a8c88cea559a46dcb8f",
       "version_major": 2,
       "version_minor": 0
      },
      "text/plain": [
       "  0%|          | 0/1680 [00:00<?, ?it/s]"
      ]
     },
     "metadata": {},
     "output_type": "display_data"
    },
    {
     "name": "stdout",
     "output_type": "stream",
     "text": [
      "CPU times: user 15.2 s, sys: 52 ms, total: 15.2 s\n",
      "Wall time: 15.2 s\n"
     ]
    }
   ],
   "source": [
    "%%time\n",
    "\n",
    "embed_model.to('cuda')\n",
    "for item in tqdm(pages_chunks_mod): \n",
    "    item[\"embedding\"] = embed_model.encode(item[\"sentence_chunk\"])"
   ]
  },
  {
   "cell_type": "markdown",
   "metadata": {},
   "source": [
    "Using batch size instead"
   ]
  },
  {
   "cell_type": "code",
   "execution_count": 23,
   "metadata": {},
   "outputs": [
    {
     "name": "stdout",
     "output_type": "stream",
     "text": [
      "CPU times: user 20.7 s, sys: 67.6 ms, total: 20.8 s\n",
      "Wall time: 19.6 s\n"
     ]
    },
    {
     "data": {
      "text/plain": [
       "tensor([[-1.9507e-02, -1.8256e-02,  7.1663e-04,  ..., -3.9904e-02,\n",
       "         -2.1543e-02, -4.3294e-02],\n",
       "        [ 2.6605e-02,  1.8786e-03, -7.0033e-03,  ..., -2.1591e-02,\n",
       "         -2.1828e-02, -6.9988e-02],\n",
       "        [ 3.4971e-02,  4.0597e-02, -1.9747e-02,  ..., -3.5225e-02,\n",
       "         -3.1397e-02, -4.6613e-02],\n",
       "        ...,\n",
       "        [-3.2258e-02, -2.4768e-02, -1.1571e-02,  ..., -1.3906e-05,\n",
       "          3.9905e-02, -5.2110e-02],\n",
       "        [-8.8627e-02, -6.6496e-02, -1.0430e-01,  ..., -3.0128e-02,\n",
       "          8.4004e-02, -4.2208e-02],\n",
       "        [-1.1203e-01, -4.9535e-02, -2.4896e-02,  ...,  1.2983e-02,\n",
       "          4.6920e-02, -2.8276e-02]], device='cuda:0')"
      ]
     },
     "execution_count": 23,
     "metadata": {},
     "output_type": "execute_result"
    }
   ],
   "source": [
    "%%time\n",
    "\n",
    "text_chunks = [item[\"sentence_chunk\"] for item in pages_chunks_mod]\n",
    "text_embeddings = embed_model.encode(text_chunks, batch_size=32, convert_to_tensor=True)\n",
    "text_embeddings"
   ]
  },
  {
   "cell_type": "markdown",
   "metadata": {},
   "source": [
    "Save embeddings to file"
   ]
  },
  {
   "cell_type": "code",
   "execution_count": 27,
   "metadata": {},
   "outputs": [],
   "source": [
    "embeddings_save_path = 'text_and_embeddings.csv'"
   ]
  },
  {
   "cell_type": "code",
   "execution_count": 26,
   "metadata": {},
   "outputs": [],
   "source": [
    "text_and_embeddings = pd.DataFrame(pages_chunks_mod)\n",
    "text_and_embeddings.to_csv(embeddings_save_path, index=False)"
   ]
  },
  {
   "cell_type": "code",
   "execution_count": 28,
   "metadata": {},
   "outputs": [
    {
     "data": {
      "text/html": [
       "<div>\n",
       "<style scoped>\n",
       "    .dataframe tbody tr th:only-of-type {\n",
       "        vertical-align: middle;\n",
       "    }\n",
       "\n",
       "    .dataframe tbody tr th {\n",
       "        vertical-align: top;\n",
       "    }\n",
       "\n",
       "    .dataframe thead th {\n",
       "        text-align: right;\n",
       "    }\n",
       "</style>\n",
       "<table border=\"1\" class=\"dataframe\">\n",
       "  <thead>\n",
       "    <tr style=\"text-align: right;\">\n",
       "      <th></th>\n",
       "      <th>page_number</th>\n",
       "      <th>sentence_chunk</th>\n",
       "      <th>chunk_char_count</th>\n",
       "      <th>chunk_word_count</th>\n",
       "      <th>chunk_token_count</th>\n",
       "      <th>embedding</th>\n",
       "    </tr>\n",
       "  </thead>\n",
       "  <tbody>\n",
       "    <tr>\n",
       "      <th>0</th>\n",
       "      <td>-39</td>\n",
       "      <td>Human Nutrition: 2020 Edition UNIVERSITY OF HA...</td>\n",
       "      <td>308</td>\n",
       "      <td>42</td>\n",
       "      <td>77.00</td>\n",
       "      <td>[-1.95069630e-02 -1.82563923e-02  7.16574199e-...</td>\n",
       "    </tr>\n",
       "    <tr>\n",
       "      <th>1</th>\n",
       "      <td>-38</td>\n",
       "      <td>Human Nutrition: 2020 Edition by University of...</td>\n",
       "      <td>210</td>\n",
       "      <td>30</td>\n",
       "      <td>52.50</td>\n",
       "      <td>[ 2.66053174e-02  1.87852455e-03 -7.00324634e-...</td>\n",
       "    </tr>\n",
       "    <tr>\n",
       "      <th>2</th>\n",
       "      <td>-37</td>\n",
       "      <td>Contents Preface University of Hawai‘i at Māno...</td>\n",
       "      <td>766</td>\n",
       "      <td>116</td>\n",
       "      <td>191.50</td>\n",
       "      <td>[ 3.49713489e-02  4.05969657e-02 -1.97472461e-...</td>\n",
       "    </tr>\n",
       "    <tr>\n",
       "      <th>3</th>\n",
       "      <td>-36</td>\n",
       "      <td>Lifestyles and Nutrition University of Hawai‘i...</td>\n",
       "      <td>941</td>\n",
       "      <td>144</td>\n",
       "      <td>235.25</td>\n",
       "      <td>[ 2.63138041e-02  2.63623390e-02 -2.12261155e-...</td>\n",
       "    </tr>\n",
       "    <tr>\n",
       "      <th>4</th>\n",
       "      <td>-35</td>\n",
       "      <td>The Cardiovascular System University of Hawai‘...</td>\n",
       "      <td>998</td>\n",
       "      <td>152</td>\n",
       "      <td>249.50</td>\n",
       "      <td>[-4.99467552e-03  5.19443788e-02 -3.91638204e-...</td>\n",
       "    </tr>\n",
       "  </tbody>\n",
       "</table>\n",
       "</div>"
      ],
      "text/plain": [
       "   page_number                                     sentence_chunk  \\\n",
       "0          -39  Human Nutrition: 2020 Edition UNIVERSITY OF HA...   \n",
       "1          -38  Human Nutrition: 2020 Edition by University of...   \n",
       "2          -37  Contents Preface University of Hawai‘i at Māno...   \n",
       "3          -36  Lifestyles and Nutrition University of Hawai‘i...   \n",
       "4          -35  The Cardiovascular System University of Hawai‘...   \n",
       "\n",
       "   chunk_char_count  chunk_word_count  chunk_token_count  \\\n",
       "0               308                42              77.00   \n",
       "1               210                30              52.50   \n",
       "2               766               116             191.50   \n",
       "3               941               144             235.25   \n",
       "4               998               152             249.50   \n",
       "\n",
       "                                           embedding  \n",
       "0  [-1.95069630e-02 -1.82563923e-02  7.16574199e-...  \n",
       "1  [ 2.66053174e-02  1.87852455e-03 -7.00324634e-...  \n",
       "2  [ 3.49713489e-02  4.05969657e-02 -1.97472461e-...  \n",
       "3  [ 2.63138041e-02  2.63623390e-02 -2.12261155e-...  \n",
       "4  [-4.99467552e-03  5.19443788e-02 -3.91638204e-...  "
      ]
     },
     "execution_count": 28,
     "metadata": {},
     "output_type": "execute_result"
    }
   ],
   "source": [
    "# load it to use it again\n",
    "text_and_embeddings = pd.read_csv(embeddings_save_path)\n",
    "text_and_embeddings.head()"
   ]
  },
  {
   "cell_type": "markdown",
   "metadata": {},
   "source": [
    "### Retrieval"
   ]
  },
  {
   "cell_type": "code",
   "execution_count": 55,
   "metadata": {},
   "outputs": [],
   "source": [
    "# import libraries if disconnected\n",
    "import random\n",
    "import torch\n",
    "import numpy as np\n",
    "import pandas as pd\n",
    "\n",
    "device = 'cuda' if torch.cuda.is_available() else 'cpu'\n",
    "text_and_embeddings = pd.read_csv(embeddings_save_path)\n",
    "text_and_embeddings[\"embedding\"] = text_and_embeddings[\"embedding\"].apply(lambda x : np.fromstring(x.strip(\"[]\"), sep=\" \"))\n",
    "embeddings = torch.tensor(np.stack(text_and_embeddings[\"embedding\"].to_list(), axis=0, dtype=np.float32)).to(device)\n",
    "pages_chunks_mod = text_and_embeddings.to_dict(orient=\"records\")"
   ]
  },
  {
   "cell_type": "code",
   "execution_count": 56,
   "metadata": {},
   "outputs": [
    {
     "data": {
      "text/plain": [
       "torch.Size([1680, 384])"
      ]
     },
     "execution_count": 56,
     "metadata": {},
     "output_type": "execute_result"
    }
   ],
   "source": [
    "embeddings.shape"
   ]
  },
  {
   "cell_type": "code",
   "execution_count": 57,
   "metadata": {},
   "outputs": [
    {
     "name": "stderr",
     "output_type": "stream",
     "text": [
      "/home/rudradeep/projects/simple-local-rag/venv/lib/python3.12/site-packages/huggingface_hub/file_download.py:1142: FutureWarning: `resume_download` is deprecated and will be removed in version 1.0.0. Downloads always resume when possible. If you want to force a new download, use `force_download=True`.\n",
      "  warnings.warn(\n"
     ]
    }
   ],
   "source": [
    "# Ready embedding model for semantic search\n",
    "from sentence_transformers import util, SentenceTransformer\n",
    "\n",
    "embed_model = SentenceTransformer(model_name_or_path=model_name2, device=device)"
   ]
  },
  {
   "cell_type": "markdown",
   "metadata": {},
   "source": [
    "### Semantic Search Pipeline\n",
    "Steps:\n",
    "1. Make a query string\n",
    "2. Turn the query string into an embedding\n",
    "3. Perform a similarity function between the query embedding and text embeddings\n",
    "4. Sort the results from 3 in descending order "
   ]
  },
  {
   "cell_type": "code",
   "execution_count": 58,
   "metadata": {},
   "outputs": [],
   "source": [
    "from time import perf_counter as timer"
   ]
  },
  {
   "cell_type": "code",
   "execution_count": 59,
   "metadata": {},
   "outputs": [
    {
     "name": "stdout",
     "output_type": "stream",
     "text": [
      "Query : functions of macronutrients\n",
      "Time taken to compare: 0.0118, Embeddings length: 1680\n"
     ]
    }
   ],
   "source": [
    "query = \"functions of macronutrients\"\n",
    "print(f'Query : {query}')\n",
    "\n",
    "query_embedding = embed_model.encode(query, convert_to_tensor=True).to(device=device)\n",
    "start_time = timer()\n",
    "dot_scores = util.dot_score(query_embedding, embeddings)[0]\n",
    "end_time  = timer()\n",
    "print(f'Time taken to compare: {end_time-start_time:.4f}, Embeddings length: {len(embeddings)}')\n",
    "\n",
    "# Get the top 5 dot scores\n",
    "results = torch.topk(dot_scores, k=5)\n"
   ]
  },
  {
   "cell_type": "code",
   "execution_count": 62,
   "metadata": {},
   "outputs": [
    {
     "data": {
      "text/plain": [
       "torch.return_types.topk(\n",
       "values=tensor([0.6505, 0.6417, 0.5846, 0.5800, 0.5699], device='cuda:0'),\n",
       "indices=tensor([ 42,  41, 451,  47,  50], device='cuda:0'))"
      ]
     },
     "execution_count": 62,
     "metadata": {},
     "output_type": "execute_result"
    }
   ],
   "source": [
    "results"
   ]
  },
  {
   "cell_type": "code",
   "execution_count": 70,
   "metadata": {},
   "outputs": [
    {
     "data": {
      "text/plain": [
       "'Macronutrients Nutrients that are needed in large amounts are called macronutrients. There are three classes of macronutrients: carbohydrates, lipids, and proteins. These can be metabolically processed into cellular energy. The energy from macronutrients comes from their chemical bonds. This chemical energy is converted into cellular energy that is then utilized to perform work, allowing our bodies to conduct their basic functions. A unit of measurement of food energy is the calorie. On nutrition food labels the amount given for “calories” is actually equivalent to each calorie multiplied by one thousand. A kilocalorie (one thousand calories, denoted with a small “c”) is synonymous with the “Calorie” (with a capital “C”) on nutrition food labels. Water is also a macronutrient in the sense that you require a large amount of it, but unlike the other macronutrients, it does not yield calories. Carbohydrates Carbohydrates are molecules composed of carbon, hydrogen, and oxygen.'"
      ]
     },
     "execution_count": 70,
     "metadata": {},
     "output_type": "execute_result"
    }
   ],
   "source": [
    "pages_chunks_mod[42][\"sentence_chunk\"]"
   ]
  },
  {
   "cell_type": "markdown",
   "metadata": {},
   "source": [
    "Make vector search results pretty"
   ]
  },
  {
   "cell_type": "code",
   "execution_count": 71,
   "metadata": {},
   "outputs": [],
   "source": [
    "import textwrap\n",
    "\n",
    "def print_wrapped(text, wrap_length=80):\n",
    "    wrapped_text = textwrap.fill(text, wrap_length)\n",
    "    print(wrapped_text)"
   ]
  },
  {
   "cell_type": "code",
   "execution_count": 72,
   "metadata": {},
   "outputs": [
    {
     "name": "stdout",
     "output_type": "stream",
     "text": [
      "Query: functions of macronutrients\n",
      "Score : 0.6505149006843567\n",
      "Text: \n",
      "\n",
      "Macronutrients Nutrients that are needed in large amounts are called\n",
      "macronutrients. There are three classes of macronutrients: carbohydrates,\n",
      "lipids, and proteins. These can be metabolically processed into cellular energy.\n",
      "The energy from macronutrients comes from their chemical bonds. This chemical\n",
      "energy is converted into cellular energy that is then utilized to perform work,\n",
      "allowing our bodies to conduct their basic functions. A unit of measurement of\n",
      "food energy is the calorie. On nutrition food labels the amount given for\n",
      "“calories” is actually equivalent to each calorie multiplied by one thousand. A\n",
      "kilocalorie (one thousand calories, denoted with a small “c”) is synonymous with\n",
      "the “Calorie” (with a capital “C”) on nutrition food labels. Water is also a\n",
      "macronutrient in the sense that you require a large amount of it, but unlike the\n",
      "other macronutrients, it does not yield calories. Carbohydrates Carbohydrates\n",
      "are molecules composed of carbon, hydrogen, and oxygen.\n",
      "Page number: 5\n",
      "\n",
      "\n",
      "Score : 0.6417360305786133\n",
      "Text: \n",
      "\n",
      "Learning Objectives By the end of this chapter, you will be able to: • Describe\n",
      "basic concepts in nutrition • Describe factors that affect your nutritional\n",
      "needs • Describe the importance of research and scientific methods to\n",
      "understanding nutrition What are Nutrients? The foods we eat contain nutrients.\n",
      "Nutrients are substances required by the body to perform its basic functions.\n",
      "Nutrients must be obtained from our diet, since the human body does not\n",
      "synthesize or produce them. Nutrients have one or more of three basic functions:\n",
      "they provide energy, contribute to body structure, and/or regulate chemical\n",
      "processes in the body. These basic functions allow us to detect and respond to\n",
      "environmental surroundings, move, excrete wastes, respire (breathe), grow, and\n",
      "reproduce. There are six classes of nutrients required for the body to function\n",
      "and maintain overall health. These are carbohydrates, lipids, proteins, water,\n",
      "vitamins, and minerals. Foods also contain non-nutrients that may be harmful\n",
      "(such as natural toxins common in plant foods and additives like some dyes and\n",
      "preservatives) or beneficial (such as antioxidants). 4 | Introduction\n",
      "Page number: 4\n",
      "\n",
      "\n",
      "Score : 0.5846086740493774\n",
      "Text: \n",
      "\n",
      "These vitamins are best absorbed when combined with foods containing fat. Fats\n",
      "also increase the bioavailability of compounds known as phytochemicals, which\n",
      "are plant constituents such as lycopene (found in tomatoes) and beta-carotene\n",
      "(found in carrots). Phytochemicals are believed to promote health and well-\n",
      "being. As a result, eating tomatoes with olive oil or salad dressing will\n",
      "facilitate lycopene absorption. Other essential nutrients, such as essential\n",
      "fatty acids, are constituents of the fats themselves and serve as building\n",
      "blocks of a cell. Figure 5.2 Food Sources of Omega 3’s 298 | The Functions of\n",
      "Lipids in the Body\n",
      "Page number: 298\n",
      "\n",
      "\n",
      "Score : 0.579961359500885\n",
      "Text: \n",
      "\n",
      "Water There is one other nutrient that we must have in large quantities: water.\n",
      "Water does not contain carbon, but is composed of two hydrogens and one oxygen\n",
      "per molecule of water. More than 60 percent of your total body weight is water.\n",
      "Without it, nothing could be transported in or out of the body, chemical\n",
      "reactions would not occur, organs would not be cushioned, and body temperature\n",
      "would fluctuate widely. On average, an adult consumes just over two liters of\n",
      "water per day from food and drink combined. Since water is so critical for\n",
      "life’s basic processes, the amount of water input and output is supremely\n",
      "important, a topic we will explore in detail in Chapter 4. Micronutrients\n",
      "Micronutrients are nutrients required by the body in lesser amounts, but are\n",
      "still essential for carrying out bodily functions. Micronutrients include all\n",
      "the essential minerals and vitamins. There are sixteen essential minerals and\n",
      "thirteen vitamins (See Table 1.1 “Minerals and Their Major Functions” and Table\n",
      "1.2 “Vitamins and Their Major Functions” for a complete list and their major\n",
      "functions). In contrast to carbohydrates, lipids, and proteins, micronutrients\n",
      "are not sources of energy (calories), but they assist in the process as\n",
      "cofactors or components of enzymes (i.e., coenzymes).\n",
      "Page number: 8\n",
      "\n",
      "\n",
      "Score : 0.5699129700660706\n",
      "Text: \n",
      "\n",
      "function, others are used to maintain fluid balance, build bone tissue,\n",
      "synthesize hormones, transmit nerve impulses, contract and relax muscles, and\n",
      "protect against harmful free radicals in the body that can cause health problems\n",
      "such as cancer. Vitamins The thirteen vitamins are categorized as either water-\n",
      "soluble or fat-soluble. The water-soluble vitamins are vitamin C and all the B\n",
      "vitamins, which include thiamine, riboflavin, niacin, pantothenic acid,\n",
      "pyridoxine, biotin, folate and cobalamin. The fat-soluble vitamins are A, D, E,\n",
      "and K. Vitamins are required to perform many functions in the body such as\n",
      "making red blood cells, synthesizing bone tissue, and playing a role in normal\n",
      "vision, nervous system function, and immune system function. Table 1.2 Vitamins\n",
      "and Their Major Functions 10 | Introduction\n",
      "Page number: 10\n",
      "\n",
      "\n"
     ]
    }
   ],
   "source": [
    "print(f'Query: {query}')\n",
    "for score, idx in zip(results[0], results[1]):\n",
    "    print(f'Score : {score}')\n",
    "    print(f'Text: \\n')\n",
    "    print_wrapped(pages_chunks_mod[idx][\"sentence_chunk\"])\n",
    "    print(f'Page number: {pages_chunks_mod[idx][\"page_number\"]}')\n",
    "    print('\\n')"
   ]
  },
  {
   "cell_type": "markdown",
   "metadata": {},
   "source": [
    "Make above semantic search pipeline into a function"
   ]
  },
  {
   "cell_type": "code",
   "execution_count": 83,
   "metadata": {},
   "outputs": [],
   "source": [
    "def retrieve(query, embeddings, model=embed_model, num_returns=5, print_time=False, print_results=False, data=None):\n",
    "\n",
    "    query_embedding = model.encode(query, convert_to_tensor=True).to(device=device)\n",
    "    start_time = timer()\n",
    "    dot_scores = util.dot_score(query_embedding, embeddings)[0]\n",
    "    end_time = timer()\n",
    "    scores, indices = torch.topk(dot_scores, k=num_returns)\n",
    "\n",
    "    if print_time:\n",
    "        print(f'Time : {end_time-start_time:.6f}')\n",
    "    \n",
    "    if print_results:\n",
    "        assert data \n",
    "        print(f'Query: {query}')\n",
    "        for score, idx in zip(scores, indices):  \n",
    "            print(f'Score : {score}')\n",
    "            print(f'Text: \\n')\n",
    "            print_wrapped(pages_chunks_mod[idx][\"sentence_chunk\"])\n",
    "            print(f'Page number: {pages_chunks_mod[idx][\"page_number\"]}')\n",
    "            print('\\n')\n",
    "        \n",
    "    return scores, indices"
   ]
  },
  {
   "cell_type": "code",
   "execution_count": 84,
   "metadata": {},
   "outputs": [
    {
     "name": "stdout",
     "output_type": "stream",
     "text": [
      "Time : 0.000086\n",
      "Query: foods high in fat\n",
      "Score : 0.6621803641319275\n",
      "Text: \n",
      "\n",
      "Thus, it is important to learn to reduce the intake of foods high in saturated\n",
      "fat. High- fat foods can be consumed but they must fall within the overall goal\n",
      "for a person’s fat allowance for the day. • Home cooking. Limit the use of\n",
      "saturated fats in home preparation of meals. Instead of butter try spreads made\n",
      "from unsaturated oils such as canola or olive oils and the use of cooking\n",
      "sprays. Couple this with the use of herbs and spices to add flavor. Avoid using\n",
      "high-fat meat gravies, cheese, and cream sauces. Limit adding extras to foods\n",
      "such as butter on a baked potato. Use nonfat sour cream instead. Grill, bake,\n",
      "stir- fry, roast, or bake your foods.\n",
      "Page number: 353\n",
      "\n",
      "\n",
      "Score : 0.6503816246986389\n",
      "Text: \n",
      "\n",
      "A Personal Choice about Lipids UNIVERSITY OF HAWAI‘I AT MĀNOA FOOD SCIENCE AND\n",
      "HUMAN NUTRITION PROGRAM AND HUMAN NUTRITION PROGRAM A Guide to Making Sense of\n",
      "Dietary Fat On your next trip to the grocery store prepare yourself to read all\n",
      "food labels carefully and to seriously consider everything that goes into your\n",
      "shopping cart. Create a shopping list and divide your list into columns for\n",
      "“Best,” “Better,” “Good,” “Least Desirable,” and “Infrequent Foods.”As you\n",
      "refine your sense of dietary fat, here are key points to bear in mind: •\n",
      "Shopping for groceries. Don’t be bombarded with gratuitous grams of saturated\n",
      "fats and empty grams of trans fats. Read and decipher food labels carefully so\n",
      "that you know exactly what types of fat a food item contains and how much fat it\n",
      "will contribute to your overall fat intake. For snacks and daily eating,\n",
      "gravitate toward foods that are lowest in or absent of harmful trans fats.\n",
      "Restrict other foods to occasional usage based upon their fat content. For\n",
      "example, if selecting prepared foods, choose the ones without high-fat sauces in\n",
      "favor of adding your own flavorings. If selecting precooked meats, avoid those\n",
      "that are fried, coated, or prepared in high- fat sauces. A popular and healthy\n",
      "precooked meat food choice is the rotisserie chicken that most supermarkets\n",
      "carry.\n",
      "Page number: 351\n",
      "\n",
      "\n",
      "Score : 0.6447046399116516\n",
      "Text: \n",
      "\n",
      "Limit these products to less than 10 percent of your overall dietary fat\n",
      "consumption. • Trans fatty acids. Stick margarines, shortening, fast foods,\n",
      "commercial baked goods, and some snack foods contain trans fats. Limit your\n",
      "consumption of these products to keep trans fats to less than 1 percent of your\n",
      "fat consumption. • Omega-3 fatty acids (linolenic acid). Good sources of these\n",
      "are canola oil, flaxseed oil, soybean oil, olive oil, nuts, seeds, whole grains,\n",
      "legumes, and green leafy vegetables. • Omega-3 fatty acids (DHA and EPA). Good\n",
      "sources of these are 3. Fish and Omega-3 Fatty Acids. American Heart\n",
      "Association.\n",
      "Page number: 335\n",
      "\n",
      "\n",
      "Score : 0.6348764896392822\n",
      "Text: \n",
      "\n",
      "to less than 7 percent can further reduce the risk of heart disease. • Keep the\n",
      "consumption of trans fats (any food label that reads hydrogenated or partially\n",
      "hydrogenated oil) to a minimum, less than 1 percent of calories. • Think lean\n",
      "and low-fat when selecting meat, poultry, milk, and milk products. The current\n",
      "AMDR for child and adolescent fat consumption (for children over four) are as\n",
      "follows: • For children between ages four and eighteen years, between 25 and 35\n",
      "percent of caloric intake should be from fat. • For all age groups, most fats\n",
      "should come from polyunsaturated and monounsaturated fats such as fish, nuts,\n",
      "and vegetable oils. Identifying Sources of Fat Population-based studies of\n",
      "American diets have shown that intake of saturated fat is more excessive than\n",
      "intake of trans fat and cholesterol. Saturated fat is a prominent source of fat\n",
      "for most people as it is so easily found in animal fats, tropical oils such as\n",
      "coconut and palm oil, and full-fat dairy products. Oftentimes the fat in the\n",
      "diet of an average young person comes from foods such as cheese, pizza, cookies,\n",
      "chips, desserts, and animal meats such as chicken, burgers, sausages, and hot\n",
      "dogs. To aim for healthier dietary choices, the American Heart Association (AHA)\n",
      "recommends choosing lean meats and vegetable alternatives, choosing dairy\n",
      "products with low fat content, and minimizing the intake of trans 334 | Tools\n",
      "for Change\n",
      "Page number: 334\n",
      "\n",
      "\n",
      "Score : 0.6175514459609985\n",
      "Text: \n",
      "\n",
      "Indeed, the very things that make fat- rich foods attractive also make them a\n",
      "hindrance to maintaining a healthful diet. 302 | The Role of Lipids in Food\n",
      "Page number: 302\n",
      "\n",
      "\n"
     ]
    },
    {
     "data": {
      "text/plain": [
       "(tensor([0.6622, 0.6504, 0.6447, 0.6349, 0.6176], device='cuda:0'),\n",
       " tensor([538, 532, 504, 502, 457], device='cuda:0'))"
      ]
     },
     "execution_count": 84,
     "metadata": {},
     "output_type": "execute_result"
    }
   ],
   "source": [
    "retrieve(\"foods high in fat\", embeddings=embeddings, print_time=True, print_results=True, data=pages_chunks_mod)"
   ]
  },
  {
   "cell_type": "markdown",
   "metadata": {},
   "source": [
    "### LLM for Generation"
   ]
  },
  {
   "cell_type": "markdown",
   "metadata": {},
   "source": [
    "Check GPU memory available"
   ]
  },
  {
   "cell_type": "code",
   "execution_count": 87,
   "metadata": {},
   "outputs": [
    {
     "name": "stdout",
     "output_type": "stream",
     "text": [
      "Available GPU memory : 2GB\n"
     ]
    }
   ],
   "source": [
    "import torch\n",
    "gpu_mem_bytes = torch.cuda.get_device_properties(0).total_memory\n",
    "gpu_gb = round(gpu_mem_bytes / (2**30))\n",
    "print(f'Available GPU memory : {gpu_gb}GB')"
   ]
  },
  {
   "cell_type": "code",
   "execution_count": 90,
   "metadata": {},
   "outputs": [
    {
     "name": "stderr",
     "output_type": "stream",
     "text": [
      "huggingface/tokenizers: The current process just got forked, after parallelism has already been used. Disabling parallelism to avoid deadlocks...\n",
      "To disable this warning, you can either:\n",
      "\t- Avoid using `tokenizers` before the fork if possible\n",
      "\t- Explicitly set the environment variable TOKENIZERS_PARALLELISM=(true | false)\n"
     ]
    }
   ],
   "source": [
    "%%capture\n",
    "# install groq for llm\n",
    "!pip install groq\n",
    "# dotenv helps with env variables\n",
    "!pip install python-dotenv"
   ]
  },
  {
   "cell_type": "code",
   "execution_count": 100,
   "metadata": {},
   "outputs": [],
   "source": [
    "from dotenv import load_dotenv\n",
    "from groq import Groq\n",
    "load_dotenv()\n",
    "client = Groq(\n",
    "    api_key=os.getenv(\"GROQ_API_KEY\"),\n",
    ")"
   ]
  },
  {
   "cell_type": "code",
   "execution_count": 102,
   "metadata": {},
   "outputs": [],
   "source": [
    "model_llm_name = 'llama3-8b-8192'"
   ]
  },
  {
   "cell_type": "code",
   "execution_count": 104,
   "metadata": {},
   "outputs": [
    {
     "name": "stdout",
     "output_type": "stream",
     "text": [
      "CPU times: user 13 ms, sys: 3.18 ms, total: 16.2 ms\n",
      "Wall time: 1.82 s\n"
     ]
    }
   ],
   "source": [
    "%%time\n",
    "input_text = 'What are the macronutrients and what role do they play in the human body?'\n",
    "chat_completion = client.chat.completions.create(\n",
    "    messages=[\n",
    "        {\n",
    "            \"role\": \"user\",\n",
    "            \"content\": input_text,\n",
    "        }\n",
    "    ],\n",
    "    model=model_llm_name,\n",
    ")"
   ]
  },
  {
   "cell_type": "code",
   "execution_count": 105,
   "metadata": {},
   "outputs": [
    {
     "name": "stdout",
     "output_type": "stream",
     "text": [
      "The three main macronutrients are carbohydrates, proteins, and fats. Each of these macronutrients plays a vital role in the human body, providing energy, building and repairing tissues, and regulating various bodily functions. Here's a brief overview of each:\n",
      "\n",
      "1. **Carbohydrates**:\n",
      "\t* Major source of energy for the body (approximately 55-60% of daily energy needs)\n",
      "\t* Broken down into glucose, which is absorbed into the bloodstream and transported to cells for energy production\n",
      "\t* Simple carbohydrates (sugars) are quickly digested and provide rapid energy, while complex carbohydrates (starches and fibers) are digested more slowly and provide sustained energy\n",
      "\t* Examples: bread, pasta, fruits, vegetables, grains\n",
      "2. **Proteins**:\n",
      "\t* Build and repair tissues, such as muscles, bones, skin, and hair (approximately 15-20% of daily energy needs)\n",
      "\t* Played a crucial role in producing enzymes, hormones, and other biomolecules\n",
      "\t* Can be used as a source of energy when carbohydrate stores are depleted, but this is not their primary function\n",
      "\t* Examples: meats, poultry, fish, eggs, dairy products, legumes, nuts, and seeds\n",
      "3. **Fats**:\n",
      "\t* Provide energy for the body (approximately 20-35% of daily energy needs)\n",
      "\t* Help absorb fat-soluble vitamins (A, D, E, and K) and maintain healthy skin and mucous membranes\n",
      "\t* Also known as triglycerides, which are composed of glycerol and three fatty acid chains\n",
      "\t* Examples: fats, oils, butter, lard, nuts, and seeds\n",
      "\n",
      "Other important roles of macronutrients in the human body include:\n",
      "\n",
      "* **Regulation of blood sugar levels**: Carbohydrates and proteins help regulate blood sugar levels, preventing large fluctuations. Insulin, a hormone produced by the pancreas, regulates blood sugar levels by facilitating carbohydrate and protein absorption.\n",
      "* **Body temperature regulation**: Fats and proteins play a role in maintaining body temperature through the production of heat during metabolic processes.\n",
      "* **Hormone synthesis**: Fats and proteins are involved in the synthesis of various hormones, such as testosterone, estrogen, and thyroid hormones.\n",
      "* **Brain function and development**: Fatty acids, particularly omega-3 fatty acids, are essential for brain function and development.\n",
      "* **Circulation and cardiovascular health**: Fats are necessary for the production of cholesterol, which is essential for maintaining healthy liver function and producing bile acids that aid in fat digestion.\n",
      "\n",
      "In summary, macronutrients are essential for providing energy, building and repairing tissues, and regulating various bodily functions. A balanced diet that includes a mix of carbohydrates, proteins, and fats is necessary for maintaining optimal health and function.\n"
     ]
    }
   ],
   "source": [
    "print(chat_completion.choices[0].message.content)"
   ]
  },
  {
   "cell_type": "markdown",
   "metadata": {},
   "source": [
    "### Augmentation"
   ]
  },
  {
   "cell_type": "code",
   "execution_count": 117,
   "metadata": {},
   "outputs": [],
   "source": [
    "def prompt_formatter(query:str, context_items:list[dict]) -> str:\n",
    "    \n",
    "    context = '- ' + \"\\n- \".join([item[\"sentence_chunk\"] for item in context_items])\n",
    "    prompt = f\"\"\"Based on the following context items answer the query. \n",
    "    Give yourself room to think by extracting relevant passages from the context before answering the query.\n",
    "    Don't return the thinking, return only the answer.\n",
    "    Make sure your answers are as explanatory as possible.\n",
    "    Context_items: {context}\n",
    "    Query : {query}\n",
    "    Return your answers in the below format:\n",
    "    Query : <the query here>\n",
    "    Answer : <Your answer>\n",
    "    \"\"\"\n",
    "    return prompt"
   ]
  },
  {
   "cell_type": "code",
   "execution_count": 118,
   "metadata": {},
   "outputs": [
    {
     "name": "stdout",
     "output_type": "stream",
     "text": [
      "Time : 0.000519\n",
      "Query : What are the best sources of protein?\n",
      "Prompt : \n",
      " Based on the following context items answer the query. \n",
      "    Give yourself room to think by extracting relevant passages from the context before answering the query.\n",
      "    Don't return the thinking, return only the answer.\n",
      "    Make sure your answers are as explanatory as possible.\n",
      "    Context_items: - Dietary Sources of Protein The protein food group consists of foods made from meat, seafood, poultry, eggs, soy, dry beans, peas, and seeds. According to the Harvard School of Public Health, “animal protein and vegetable protein probably have the same effects on health. It’s the protein package that’s likely to make a difference.”1 1. Protein: The Bottom Line. Harvard School of Public Proteins, Diet, and Personal Choices | 411\n",
      "- Foods that contain some of the essential amino acids are called incomplete protein sources, while those that contain all nine essential amino acids are called complete protein sources, or high- quality protein sources. Foods that are complete protein sources include animal foods such as milk, cheese, eggs, fish, poultry, and meat, and a few plant foods, such as soy and quinoa. The only animal-based protein that is not complete is gelatin, which is made of the protein, collagen. Figure 6.18 Complete and Incomplete Protein Sources 414 | Proteins, Diet, and Personal Choices\n",
      "- Image by Braden Collum on unsplash.co m / CC0 Proteins in a Nutshell UNIVERSITY OF HAWAI‘I AT MĀNOA FOOD SCIENCE AND HUMAN NUTRITION PROGRAM AND HUMAN NUTRITION PROGRAM  Proteins are long chains of amino acids folded into precise structures that determine their functions, which are in the tens of thousands. They are the primary construction materials of the body serving as building blocks for bone, skin, hair, muscle, hormones, and antibodies. Without them we cannot breakdown or build macromolecules, grow, or heal from a wound. Too little protein impairs bodily functions and too much can lead to chronic disease. Eat proteins in moderation, at least 10 percent of the calories you take in and not more than 35 percent. Proteins are in a variety of foods. More complete sources are in animal-based foods, but choose those low in saturated fat and cholesterol. Some plant-based foods are also complete protein sources and don’t add much to your saturated fat or cholesterol intake. Incomplete protein sources can easily be combined in the daily diet and provide all of the essential Proteins in a Nutshell | 405\n",
      "- Protein-rich Foods by Smastronard o / CC BY-SA 4.0 Examples of complete protein sources include soy, dairy products, meat, and seafood. Examples of incomplete protein sources include legumes and corn. Most plant-based foods are deficient in at least one essential amino acid and therefore are incomplete protein sources. For example, grains are usually deficient in the amino acid lysine, and legumes are deficient in methionine or tryptophan. Because grains and legumes are not deficient in the same amino acids they can complement each other in a diet. Incomplete protein foods are called complementary foods because when consumed in tandem they contain all nine essential amino acids at adequate levels. Some examples of complementary protein foods are given in Table 6.4 “Complementing Protein Sources the Vegan Way”. Complementary protein sources do not have to be consumed at the same time—as long as they are consumed within the same day, you will meet your protein needs. Table 6.4 Complementing Protein Sources the Vegan Way Proteins, Diet, and Personal Choices | 415\n",
      "- Food PDCAAS* Milk protein 1.00 Egg white 1.00 Whey 1.00 Soy protein 1.00 Beef 0.92 Soybeans 0.91 Chickpeas 0.78 Fruits 0.76 Vegetables 0.73 Whole wheat 0.42 *1 is the highest rank, 0 is the lowest Protein Needs: Special Considerations Some groups may need to examine how to meet their protein needs more closely than others. We will take a closer look at the special protein considerations for vegetarians, the elderly, and athletes. Vegetarians and Vegans People who follow variations of the vegetarian diet and consume eggs and/or dairy products can meet their protein requirements by consuming adequate amounts of these foods. Vegetarians and vegans can also attain their recommended protein intakes if they give a little more attention to high-quality plant-based protein sources. However, when following a vegetarian diet, the amino acid lysine can be challenging to acquire. Grains, nuts, and seeds are lysine-poor foods, but tofu, soy, quinoa, and pistachios are all good Proteins, Diet, and Personal Choices | 417\n",
      "    Query : What are the best sources of protein?\n",
      "    Return your answers in the below format:\n",
      "    Query : <the query here>\n",
      "    Answer : <Your answer>\n",
      "    \n"
     ]
    }
   ],
   "source": [
    "query = \"What are the best sources of protein?\"\n",
    "scores, indices = retrieve(query=query, embeddings=embeddings, print_time=True)\n",
    "context_items = [pages_chunks_mod[i] for i in indices]\n",
    "prompt = prompt_formatter(query, context_items=context_items)\n",
    "\n",
    "print(f'Query : {query}')\n",
    "print(f'Prompt : \\n {prompt}')"
   ]
  },
  {
   "cell_type": "code",
   "execution_count": 122,
   "metadata": {},
   "outputs": [
    {
     "name": "stdout",
     "output_type": "stream",
     "text": [
      "Query : What are the best sources of protein?\n",
      "Answer : The best sources of protein are animal-based foods such as milk, cheese, eggs, fish, poultry, and meat, and a few plant-based foods such as soy and quinoa, which are complete protein sources, also known as high-quality protein sources.\n",
      "CPU times: user 29.4 ms, sys: 6.63 ms, total: 36.1 ms\n",
      "Wall time: 819 ms\n"
     ]
    }
   ],
   "source": [
    "%%time\n",
    "chat_completion = client.chat.completions.create(\n",
    "    messages=[\n",
    "        {\n",
    "            \"role\": \"user\",\n",
    "            \"content\": prompt,\n",
    "        }\n",
    "    ],\n",
    "    model=model_llm_name,\n",
    ")\n",
    "rag_answer = chat_completion.choices[0].message.content\n",
    "print(rag_answer.replace(prompt, ''))"
   ]
  },
  {
   "cell_type": "markdown",
   "metadata": {},
   "source": [
    "### Making the answering pipeline"
   ]
  },
  {
   "cell_type": "code",
   "execution_count": 124,
   "metadata": {},
   "outputs": [],
   "source": [
    "def ask(query:str, llm_model:str, embeddings:torch.tensor, data:list[dict], print_time:bool) -> str:\n",
    "    start_time = timer()\n",
    "    _, indices = retrieve(query=query, embeddings=embeddings)\n",
    "    context_items = [pages_chunks_mod[i] for i in indices]\n",
    "    prompt = prompt_formatter(query, context_items=context_items) \n",
    "    chat_completion = client.chat.completions.create(\n",
    "    messages=[\n",
    "        {\n",
    "            \"role\": \"user\",\n",
    "            \"content\": prompt,\n",
    "        }\n",
    "    ],\n",
    "    model=llm_model,\n",
    "    )\n",
    "    rag_answer = chat_completion.choices[0].message.content\n",
    "    end_time = timer()\n",
    "    if print_time:\n",
    "        print(f'Total time taken : {end_time-start_time:.5f}')\n",
    "    return rag_answer.replace(prompt, '')"
   ]
  },
  {
   "cell_type": "code",
   "execution_count": 1,
   "metadata": {},
   "outputs": [
    {
     "ename": "NameError",
     "evalue": "name 'ask' is not defined",
     "output_type": "error",
     "traceback": [
      "\u001b[0;31m---------------------------------------------------------------------------\u001b[0m",
      "\u001b[0;31mNameError\u001b[0m                                 Traceback (most recent call last)",
      "Cell \u001b[0;32mIn[1], line 1\u001b[0m\n\u001b[0;32m----> 1\u001b[0m result \u001b[38;5;241m=\u001b[39m \u001b[43mask\u001b[49m(\u001b[38;5;124m\"\u001b[39m\u001b[38;5;124mWhat are the best sources of fibre?\u001b[39m\u001b[38;5;124m\"\u001b[39m, model_llm_name, embeddings, pages_chunks_mod, \u001b[38;5;28;01mTrue\u001b[39;00m)\n\u001b[1;32m      2\u001b[0m \u001b[38;5;28mprint\u001b[39m(result)\n",
      "\u001b[0;31mNameError\u001b[0m: name 'ask' is not defined"
     ]
    }
   ],
   "source": [
    "result = ask(\"What are the best sources of fibre?\", model_llm_name, embeddings, pages_chunks_mod, True)\n",
    "print(result)"
   ]
  }
 ],
 "metadata": {
  "kernelspec": {
   "display_name": "venv",
   "language": "python",
   "name": "python3"
  },
  "language_info": {
   "codemirror_mode": {
    "name": "ipython",
    "version": 3
   },
   "file_extension": ".py",
   "mimetype": "text/x-python",
   "name": "python",
   "nbconvert_exporter": "python",
   "pygments_lexer": "ipython3",
   "version": "3.12.3"
  }
 },
 "nbformat": 4,
 "nbformat_minor": 2
}
